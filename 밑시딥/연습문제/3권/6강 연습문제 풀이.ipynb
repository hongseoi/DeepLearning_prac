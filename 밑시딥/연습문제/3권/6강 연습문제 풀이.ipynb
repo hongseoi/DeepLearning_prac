{
 "cells": [
  {
   "cell_type": "markdown",
   "metadata": {},
   "source": [
    "**1. 유추문제를 통해 카운트 기반 모델과 예측 기반 모델을 비교하려 한다.**"
   ]
  },
  {
   "cell_type": "markdown",
   "metadata": {},
   "source": [
    "**(i) 공정한 비교를 위해 2강 연습문제 3-(i) 코드를 수정하여 윈도우 크기 5로 PPMI행렬 구한후 pickle파일에 저장하시오.**"
   ]
  },
  {
   "cell_type": "code",
   "execution_count": 1,
   "metadata": {
    "scrolled": true
   },
   "outputs": [
    {
     "name": "stdout",
     "output_type": "stream",
     "text": [
      "동시발생 수 계산 ...\n",
      "PPMI 계산 ...\n"
     ]
    },
    {
     "name": "stderr",
     "output_type": "stream",
     "text": [
      "C://Users//HAN//Documents//Deep Learning from Scratch 2\\common\\util.py:141: RuntimeWarning: overflow encountered in long_scalars\n",
      "  pmi = np.log2(C[i, j] * N / (S[j]*S[i]) + eps)\n",
      "C://Users//HAN//Documents//Deep Learning from Scratch 2\\common\\util.py:141: RuntimeWarning: invalid value encountered in log2\n",
      "  pmi = np.log2(C[i, j] * N / (S[j]*S[i]) + eps)\n"
     ]
    },
    {
     "name": "stdout",
     "output_type": "stream",
     "text": [
      "1.0% 완료\n",
      "2.0% 완료\n",
      "3.0% 완료\n",
      "4.0% 완료\n",
      "5.0% 완료\n",
      "6.0% 완료\n",
      "7.0% 완료\n",
      "8.0% 완료\n",
      "9.0% 완료\n",
      "10.0% 완료\n",
      "11.0% 완료\n",
      "12.0% 완료\n",
      "13.0% 완료\n",
      "14.0% 완료\n",
      "15.0% 완료\n",
      "16.0% 완료\n",
      "17.0% 완료\n",
      "18.0% 완료\n",
      "19.0% 완료\n",
      "20.0% 완료\n",
      "21.0% 완료\n",
      "22.0% 완료\n",
      "23.0% 완료\n",
      "24.0% 완료\n",
      "25.0% 완료\n",
      "26.0% 완료\n",
      "27.0% 완료\n",
      "28.0% 완료\n",
      "29.0% 완료\n",
      "30.0% 완료\n",
      "31.0% 완료\n",
      "32.0% 완료\n",
      "33.0% 완료\n",
      "34.0% 완료\n",
      "35.0% 완료\n",
      "36.0% 완료\n",
      "37.0% 완료\n",
      "38.0% 완료\n",
      "39.0% 완료\n",
      "40.0% 완료\n",
      "41.0% 완료\n",
      "42.0% 완료\n",
      "43.0% 완료\n",
      "44.0% 완료\n",
      "45.0% 완료\n",
      "46.0% 완료\n",
      "47.0% 완료\n",
      "48.0% 완료\n",
      "49.0% 완료\n",
      "50.0% 완료\n",
      "51.0% 완료\n",
      "52.0% 완료\n",
      "53.0% 완료\n",
      "54.0% 완료\n",
      "55.0% 완료\n",
      "56.0% 완료\n",
      "57.0% 완료\n",
      "58.0% 완료\n",
      "59.0% 완료\n",
      "60.0% 완료\n",
      "61.0% 완료\n",
      "62.0% 완료\n",
      "63.0% 완료\n",
      "64.0% 완료\n",
      "65.0% 완료\n",
      "66.0% 완료\n",
      "67.0% 완료\n",
      "68.0% 완료\n",
      "69.0% 완료\n",
      "70.0% 완료\n",
      "71.0% 완료\n",
      "72.0% 완료\n",
      "73.0% 완료\n",
      "74.0% 완료\n",
      "75.0% 완료\n",
      "76.0% 완료\n",
      "77.0% 완료\n",
      "78.0% 완료\n",
      "79.0% 완료\n",
      "80.0% 완료\n",
      "81.0% 완료\n",
      "82.0% 완료\n",
      "83.0% 완료\n",
      "84.0% 완료\n",
      "85.0% 완료\n",
      "86.0% 완료\n",
      "87.0% 완료\n",
      "88.0% 완료\n",
      "89.0% 완료\n",
      "90.0% 완료\n",
      "91.0% 완료\n",
      "92.0% 완료\n",
      "93.0% 완료\n",
      "94.0% 완료\n",
      "95.0% 완료\n",
      "96.0% 완료\n",
      "97.0% 완료\n",
      "98.0% 완료\n",
      "99.0% 완료\n",
      "100.0% 완료\n",
      "Saved!\n"
     ]
    }
   ],
   "source": [
    "import sys\n",
    "sys.path.append('C://Users//HAN//Documents//Deep Learning from Scratch 2') # 각자의 경로로 수정해주세요.\n",
    "import numpy as np\n",
    "from common.util import *\n",
    "from dataset import ptb\n",
    "import pickle\n",
    "\n",
    "window_size = 5\n",
    "\n",
    "corpus, word_to_id, id_to_word = ptb.load_data('train')\n",
    "vocab_size = len(word_to_id)\n",
    "print('동시발생 수 계산 ...')\n",
    "C = create_co_matrix(corpus, vocab_size, window_size)\n",
    "print('PPMI 계산 ...')\n",
    "W = ppmi(C, verbose=True)\n",
    "data=[C,W]\n",
    "with open('data5.pkl', 'wb') as f:\n",
    "    pickle.dump(data,f)\n",
    "print(\"Saved!\")"
   ]
  },
  {
   "cell_type": "markdown",
   "metadata": {},
   "source": [
    "**(ii) eval.py를 수정하여 카운트 기반 모델로 유추문제를 푸시오. 공정한 비교를 위해 SVD를 적용해 벡터표현 차원을 100으로 줄이고 시작하시오. (count$\\_$method$\\_$big.py 참고)**"
   ]
  },
  {
   "cell_type": "code",
   "execution_count": 2,
   "metadata": {},
   "outputs": [
    {
     "name": "stdout",
     "output_type": "stream",
     "text": [
      "Loaded!\n",
      "\n",
      "[query] you\n",
      " do: 0.669205904006958\n",
      " i: 0.655455470085144\n",
      " going: 0.6466537117958069\n",
      " 'll: 0.5788818597793579\n",
      " 're: 0.5642545223236084\n",
      "\n",
      "[query] year\n",
      " earlier: 0.7392768859863281\n",
      " month: 0.6328058242797852\n",
      " quarter: 0.6023010015487671\n",
      " fiscal: 0.5877283811569214\n",
      " last: 0.5870315432548523\n",
      "\n",
      "[query] car\n",
      " luxury: 0.7945468425750732\n",
      " auto: 0.7509857416152954\n",
      " cars: 0.7378336191177368\n",
      " beretta: 0.6997184753417969\n",
      " ford: 0.6835254430770874\n",
      "\n",
      "[query] toyota\n",
      " honda: 0.8579298853874207\n",
      " motor: 0.8500784039497375\n",
      " nissan: 0.8198772668838501\n",
      " lexus: 0.7978178262710571\n",
      " mazda: 0.7694302797317505\n",
      "--------------------------------------------------\n",
      "\n",
      "[analogy] king:man = queen:?\n",
      " his: 0.09136325865983963\n",
      " her: 0.0873655304312706\n",
      " who: 0.0864451453089714\n",
      " death: 0.06817392259836197\n",
      " black: 0.062231581658124924\n",
      "\n",
      "[analogy] take:took = go:?\n",
      " into: 0.07094679027795792\n",
      " university: 0.06208224594593048\n",
      " hours: 0.05847660452127457\n",
      " who: 0.05637441575527191\n",
      " signed: 0.055976249277591705\n",
      "\n",
      "[analogy] car:cars = child:?\n",
      " health: 0.06581216305494308\n",
      " your: 0.05641014873981476\n",
      " old: 0.056130558252334595\n",
      " children: 0.051482390612363815\n",
      " women: 0.05052562803030014\n",
      "\n",
      "[analogy] good:better = bad:?\n",
      " sometimes: 0.06770353019237518\n",
      " secretary: 0.059817347675561905\n",
      " her: 0.057433582842350006\n",
      " law: 0.0557117685675621\n",
      " use: 0.05539100617170334\n"
     ]
    }
   ],
   "source": [
    "with open('data5.pkl', 'rb') as f:\n",
    "    data=pickle.load(f)\n",
    "print(\"Loaded!\")\n",
    "W=data[1]\n",
    "wordvec_size=100\n",
    "\n",
    "from sklearn.utils.extmath import randomized_svd\n",
    "U, S, V = randomized_svd(W, n_components=wordvec_size, n_iter=5,random_state=None)\n",
    "\n",
    "word_vecs = U[:, :wordvec_size]\n",
    "\n",
    "# 가장 비슷한(most similar) 단어 뽑기\n",
    "querys = ['you', 'year', 'car', 'toyota']\n",
    "for query in querys:\n",
    "    most_similar(query, word_to_id, id_to_word, word_vecs, top=5)\n",
    "\n",
    "# 유추(analogy) 작업\n",
    "print('-'*50)\n",
    "analogy('king', 'man', 'queen',  word_to_id, id_to_word, word_vecs)\n",
    "analogy('take', 'took', 'go',  word_to_id, id_to_word, word_vecs)\n",
    "analogy('car', 'cars', 'child',  word_to_id, id_to_word, word_vecs)\n",
    "analogy('good', 'better', 'bad',  word_to_id, id_to_word, word_vecs)"
   ]
  },
  {
   "cell_type": "markdown",
   "metadata": {},
   "source": [
    "**2.(i) train.py를 수정하여 PTB 데이터셋으로 Skip-Gram 모델을 훈련시킨후 파라미터들을 pickle파일에 저장하시오.**"
   ]
  },
  {
   "cell_type": "markdown",
   "metadata": {},
   "source": [
    "train.py에서 Skip-Gram 주석을 지우고 CBOW에 주석을 표시하면 코드 수정은 매우 간단합니다.  \n",
    "그런데 학습 시간이 매우 오래 걸립니다.  \n",
    "피클 파일을 자료실에서 다운로드 받으실수 있습니다."
   ]
  },
  {
   "cell_type": "markdown",
   "metadata": {},
   "source": [
    "**(ii) eval.py를 수정하여 위에서 학습시킨 Skip-Gram 모델로 유추문제를 푸시오. CBOW 모델에 못미치는 이유를 설명하시오.**"
   ]
  },
  {
   "cell_type": "markdown",
   "metadata": {},
   "source": [
    "eval.py에서 Skip-Gram 피클 파일 주석을 지우고 CBOW 피클 파일에 주석을 표시하면 코드수정은 매우 간단합니다.\n",
    "\n",
    "CBOW모델에서는 왼쪽 5단어, 오른쪽 5단어를 보여주고 중앙의 단어를 맞추는 문제를 풉니다.  \n",
    "반면에 Skip-Gram 모델에서는 중앙의 단어를 보여주고 왼쪽 5단어 오른쪽 5단어를 맞추는 문제를 풉니다.  \n",
    "Skip-Gram 모델이 훨씬 어려운 문제를 푼다고 볼수 있습니다.  \n",
    "이때문에 학습 데이터셋이 적을때는 CBOW 모델이 Skip-Gram모델보다 뛰어납니다.  \n",
    "하지만 학습 데이터셋이 많아지면 성능이 역전됩니다.  \n",
    "PTB 데이터셋으로 훈련시킨 Skip-Gram 모델이 더 성능이 떨어지는 이유는 PTB 데이터셋이 충분히 크지 않기 때문입니다."
   ]
  },
  {
   "cell_type": "code",
   "execution_count": 3,
   "metadata": {},
   "outputs": [
    {
     "name": "stdout",
     "output_type": "stream",
     "text": [
      "\n",
      "[query] you\n",
      " your: 0.6650390625\n",
      " yourself: 0.65625\n",
      " i: 0.6484375\n",
      " weird: 0.62255859375\n",
      " someone: 0.611328125\n",
      "\n",
      "[query] year\n",
      " month: 0.626953125\n",
      " earlier: 0.5947265625\n",
      " week: 0.5390625\n",
      " fiscal: 0.52490234375\n",
      " tons: 0.5078125\n",
      "\n",
      "[query] car\n",
      " cars: 0.61474609375\n",
      " luxury: 0.5888671875\n",
      " auto: 0.56640625\n",
      " merkur: 0.55078125\n",
      " mazda: 0.51904296875\n",
      "\n",
      "[query] toyota\n",
      " lexus: 0.6728515625\n",
      " motor: 0.66796875\n",
      " honda: 0.64453125\n",
      " beretta: 0.62158203125\n",
      " corsica: 0.60546875\n",
      "--------------------------------------------------\n",
      "\n",
      "[analogy] king:man = queen:?\n",
      " duck: 1.74609375\n",
      " violin: 1.7373046875\n",
      " mystery: 1.6748046875\n",
      " peasants: 1.669921875\n",
      " hero: 1.6669921875\n",
      "\n",
      "[analogy] take:took = go:?\n",
      " feet: 1.7421875\n",
      " ran: 1.595703125\n",
      " walked: 1.5810546875\n",
      " bounced: 1.5478515625\n",
      " clothes: 1.5361328125\n",
      "\n",
      "[analogy] car:cars = child:?\n",
      " rape: 2.30078125\n",
      " incest: 2.001953125\n",
      " children: 1.890625\n",
      " adults: 1.845703125\n",
      " conception: 1.763671875\n",
      "\n",
      "[analogy] good:better = bad:?\n",
      " comparable: 1.7890625\n",
      " hemorrhaging: 1.603515625\n",
      " impressive: 1.48046875\n",
      " texans: 1.474609375\n",
      " vary: 1.4482421875\n"
     ]
    }
   ],
   "source": [
    "pkl_file = 'skipgram_params.pkl'\n",
    "\n",
    "with open(pkl_file, 'rb') as f:\n",
    "    params = pickle.load(f)\n",
    "    word_vecs = params['word_vecs']\n",
    "    word_to_id = params['word_to_id']\n",
    "    id_to_word = params['id_to_word']\n",
    "\n",
    "# 가장 비슷한(most similar) 단어 뽑기\n",
    "querys = ['you', 'year', 'car', 'toyota']\n",
    "for query in querys:\n",
    "    most_similar(query, word_to_id, id_to_word, word_vecs, top=5)\n",
    "\n",
    "# 유추(analogy) 작업\n",
    "print('-'*50)\n",
    "analogy('king', 'man', 'queen',  word_to_id, id_to_word, word_vecs)\n",
    "analogy('take', 'took', 'go',  word_to_id, id_to_word, word_vecs)\n",
    "analogy('car', 'cars', 'child',  word_to_id, id_to_word, word_vecs)\n",
    "analogy('good', 'better', 'bad',  word_to_id, id_to_word, word_vecs)"
   ]
  },
  {
   "cell_type": "markdown",
   "metadata": {},
   "source": [
    "**3. 통계학 시간에 배운 PCA가 얼마나 효율적인 차원축소 방법인지 유추문제로 확인하려 한다.**"
   ]
  },
  {
   "cell_type": "markdown",
   "metadata": {},
   "source": [
    "**(i) 인터넷에서 사이킷런의 PCA 클래스 사용법을 검색하시오.**"
   ]
  },
  {
   "cell_type": "markdown",
   "metadata": {},
   "source": [
    "https://scikit-learn.org/stable/modules/generated/sklearn.decomposition.PCA.html"
   ]
  },
  {
   "cell_type": "markdown",
   "metadata": {},
   "source": [
    "**(ii) eval.py를 수정하여 PCA로 단어의 벡터 표현  차원을 20만큼 줄 후 유추문제를 푸시오.**"
   ]
  },
  {
   "cell_type": "markdown",
   "metadata": {},
   "source": [
    "차원을 줄이면 정보의 손실은 어쩔수 없습니다.  \n",
    "PCA는 정보의 손실을 최소화 하면서 차원을 축소합니다.  \n",
    "데이터 크기가 5분의 1로 줄어들었음에도 꽤 괜찮은 성능을 보여주네요."
   ]
  },
  {
   "cell_type": "code",
   "execution_count": 4,
   "metadata": {},
   "outputs": [
    {
     "name": "stdout",
     "output_type": "stream",
     "text": [
      "\n",
      "[query] you\n",
      " i: 0.8634117301889785\n",
      " somebody: 0.8060132869624443\n",
      " funny: 0.7741206381506127\n",
      " ducks: 0.7695721003178375\n",
      " something: 0.7576639457594565\n",
      "\n",
      "[query] year\n",
      " month: 0.8377124308838939\n",
      " week: 0.7412077170238015\n",
      " decade: 0.7004211371946338\n",
      " forecast: 0.6875490740647041\n",
      " summer: 0.6764615591851495\n",
      "\n",
      "[query] car\n",
      " agricultural: 0.7840540849386594\n",
      " roller-coaster: 0.7035440435284384\n",
      " rallied: 0.702591475402375\n",
      " chip: 0.7000096946595926\n",
      " channel: 0.6837276645052299\n",
      "\n",
      "[query] toyota\n",
      " nissan: 0.7808465456200856\n",
      " marathon: 0.7586939571936531\n",
      " bethlehem: 0.7544656749574457\n",
      " shops: 0.7469318484870098\n",
      " steel: 0.7403631693787304\n",
      "--------------------------------------------------\n",
      "\n",
      "[analogy] king:man = queen:?\n",
      " woman: 6.161758361548049\n",
      " veto: 4.903379893251138\n",
      " successor: 4.63441610024114\n",
      " ton: 4.377339888015118\n",
      " father: 4.368269107096116\n",
      "\n",
      "[analogy] take:took = go:?\n",
      " 're: 5.666297477051941\n",
      " went: 5.30941401547515\n",
      " became: 5.209783647318223\n",
      " was: 5.20170574666767\n",
      " began: 4.849133550133815\n",
      "\n",
      "[analogy] car:cars = child:?\n",
      " children: 4.94987592697189\n",
      " feet: 4.742809647925217\n",
      " miles: 4.354226377372234\n",
      " rape: 4.311884915264979\n",
      " kids: 4.208382902094926\n",
      "\n",
      "[analogy] good:better = bad:?\n",
      " less: 4.754845836972681\n",
      " rather: 4.5888086058629725\n",
      " more: 4.345262480838825\n",
      " faster: 3.858888078837544\n",
      " these: 3.8172567451190966\n"
     ]
    }
   ],
   "source": [
    "from sklearn.decomposition import PCA\n",
    "\n",
    "pkl_file = \"C://Users//HAN//Documents//Deep Learning from Scratch 2//ch04//CBOW_params.pkl\" # 각자의 경로로 수정해주세요.\n",
    "\n",
    "with open(pkl_file, 'rb') as f:\n",
    "    params = pickle.load(f)\n",
    "    word_vecs = params['word_vecs']\n",
    "    word_to_id = params['word_to_id']\n",
    "    id_to_word = params['id_to_word']\n",
    "\n",
    "dim=20\n",
    "\n",
    "pca = PCA(n_components = dim)\n",
    "word_vecs_pca = pca.fit_transform(word_vecs)\n",
    "\n",
    "# 가장 비슷한(most similar) 단어 뽑기\n",
    "querys = ['you', 'year', 'car', 'toyota']\n",
    "for query in querys:\n",
    "    most_similar(query, word_to_id, id_to_word, word_vecs_pca, top=5)\n",
    "\n",
    "# 유추(analogy) 작업\n",
    "print('-'*50)\n",
    "analogy('king', 'man', 'queen',  word_to_id, id_to_word, word_vecs_pca)\n",
    "analogy('take', 'took', 'go',  word_to_id, id_to_word, word_vecs_pca)\n",
    "analogy('car', 'cars', 'child',  word_to_id, id_to_word, word_vecs_pca)\n",
    "analogy('good', 'better', 'bad',  word_to_id, id_to_word, word_vecs_pca)"
   ]
  },
  {
   "cell_type": "markdown",
   "metadata": {},
   "source": [
    "**(iii) eval.py를 수정하여 단어의 벡터 표현을 단순히 앞에서 20차원 만큼 자른 후 유추문제를 푸시오.**"
   ]
  },
  {
   "cell_type": "markdown",
   "metadata": {},
   "source": [
    "데이터가 5분의 1로 줄은만큼 성능이 형편없이 떨어졌습니다.  \n",
    "차원축소를 할때 축을 정교하게 잡는게 얼마나 중요한지 느낄수 있네요."
   ]
  },
  {
   "cell_type": "code",
   "execution_count": 5,
   "metadata": {},
   "outputs": [
    {
     "name": "stdout",
     "output_type": "stream",
     "text": [
      "\n",
      "[query] you\n",
      " shorter: 0.828125\n",
      " definitely: 0.779296875\n",
      " i: 0.75634765625\n",
      " me: 0.75341796875\n",
      " someone: 0.748046875\n",
      "\n",
      "[query] year\n",
      " bikers: 0.72509765625\n",
      " misstated: 0.71484375\n",
      " week: 0.7109375\n",
      " month: 0.6845703125\n",
      " spring: 0.6787109375\n",
      "\n",
      "[query] car\n",
      " fortune: 0.78759765625\n",
      " seen: 0.765625\n",
      " balloon: 0.7607421875\n",
      " risk: 0.75830078125\n",
      " republics: 0.748046875\n",
      "\n",
      "[query] toyota\n",
      " charts: 0.75439453125\n",
      " therefore: 0.7529296875\n",
      " rebel: 0.71875\n",
      " samples: 0.69677734375\n",
      " metal: 0.68896484375\n",
      "--------------------------------------------------\n",
      "\n",
      "[analogy] king:man = queen:?\n",
      " analyst: 4.42578125\n",
      " nation: 4.05859375\n",
      " economist: 4.0234375\n",
      " spokeswoman: 3.931640625\n",
      " fund: 3.77734375\n",
      "\n",
      "[analogy] take:took = go:?\n",
      " &: 4.65234375\n",
      " can: 3.62890625\n",
      " she: 3.6015625\n",
      " my: 3.546875\n",
      " off: 3.5390625\n",
      "\n",
      "[analogy] car:cars = child:?\n",
      " down: 3.0625\n",
      " spending: 3.01953125\n",
      " far: 2.96484375\n",
      " eggs: 2.955078125\n",
      " compared: 2.806640625\n",
      "\n",
      "[analogy] good:better = bad:?\n",
      " she: 3.76953125\n",
      " as: 3.74609375\n",
      " longer: 3.0859375\n",
      " average: 2.88671875\n",
      " eye: 2.78125\n"
     ]
    }
   ],
   "source": [
    "word_vecs_nonpca = word_vecs[:,:dim]\n",
    "\n",
    "# 가장 비슷한(most similar) 단어 뽑기\n",
    "querys = ['you', 'year', 'car', 'toyota']\n",
    "for query in querys:\n",
    "    most_similar(query, word_to_id, id_to_word, word_vecs_nonpca, top=5)\n",
    "\n",
    "# 유추(analogy) 작업\n",
    "print('-'*50)\n",
    "analogy('king', 'man', 'queen',  word_to_id, id_to_word, word_vecs_nonpca)\n",
    "analogy('take', 'took', 'go',  word_to_id, id_to_word, word_vecs_nonpca)\n",
    "analogy('car', 'cars', 'child',  word_to_id, id_to_word, word_vecs_nonpca)\n",
    "analogy('good', 'better', 'bad',  word_to_id, id_to_word, word_vecs_nonpca)"
   ]
  },
  {
   "cell_type": "markdown",
   "metadata": {},
   "source": [
    "**4. PCA를 이용해 CBOW 모델의 유추문제에 대한 이해를 기하학적으로 시각화하려 한다.**"
   ]
  },
  {
   "attachments": {
    "image.png": {
     "image/png": "[encoded data removed]"
    }
   },
   "cell_type": "markdown",
   "metadata": {},
   "source": [
    "**(i) 네 단어 king, man, queen, woman의 벡터 표현에 PCA를 적용해서 차원을 2만큼 줄인후 산포도로 시각화 하시오.**\n",
    "![image.png](attachment:image.png)"
   ]
  },
  {
   "cell_type": "code",
   "execution_count": 6,
   "metadata": {},
   "outputs": [
    {
     "data": {
      "image/png": "[encoded data removed]",
      "text/plain": [
       "<Figure size 360x360 with 1 Axes>"
      ]
     },
     "metadata": {
      "needs_background": "light"
     },
     "output_type": "display_data"
    }
   ],
   "source": [
    "import matplotlib.pylab as plt\n",
    "\n",
    "pca = PCA(n_components = 2)\n",
    "word_vecs = pca.fit_transform(word_vecs)\n",
    "\n",
    "plt.figure(figsize=(5,5))\n",
    "positions=[]\n",
    "\n",
    "for word in ('king','man','queen','woman'):\n",
    "    vec = word_vecs[word_to_id[word]]\n",
    "    positions.append(vec)\n",
    "    plt.annotate(word,vec)\n",
    "\n",
    "positions = np.array(positions)\n",
    "plt.scatter(positions[:,0], positions[:,1], alpha=0.5)\n",
    "plt.show()"
   ]
  },
  {
   "attachments": {
    "image.png": {
     "image/png": "[encoded data removed]"
    }
   },
   "cell_type": "markdown",
   "metadata": {},
   "source": [
    "**(ii) 기하학적 의미를 해석하시오.**\n",
    "![image.png](attachment:image.png)"
   ]
  },
  {
   "cell_type": "markdown",
   "metadata": {},
   "source": [
    "**(iii) 나머지 조합 take, took, go, went와 car, cars, child, children와 good, better, bad, worse에 대해서도 같은 작업을 하시오.**"
   ]
  },
  {
   "cell_type": "code",
   "execution_count": 7,
   "metadata": {},
   "outputs": [
    {
     "data": {
      "image/png": "[encoded data removed]",
      "text/plain": [
       "<Figure size 360x360 with 1 Axes>"
      ]
     },
     "metadata": {
      "needs_background": "light"
     },
     "output_type": "display_data"
    },
    {
     "data": {
      "image/png": "[encoded data removed]",
      "text/plain": [
       "<Figure size 360x360 with 1 Axes>"
      ]
     },
     "metadata": {
      "needs_background": "light"
     },
     "output_type": "display_data"
    },
    {
     "data": {
      "image/png": "[encoded data removed]",
      "text/plain": [
       "<Figure size 360x360 with 1 Axes>"
      ]
     },
     "metadata": {
      "needs_background": "light"
     },
     "output_type": "display_data"
    }
   ],
   "source": [
    "plt.figure(figsize=(5,5))\n",
    "positions=[]\n",
    "\n",
    "for word in ('take','took','go','went'):\n",
    "    vec = word_vecs[word_to_id[word]]\n",
    "    positions.append(vec)\n",
    "    plt.annotate(word,vec)\n",
    "\n",
    "positions = np.array(positions)\n",
    "plt.scatter(positions[:,0], positions[:,1], alpha=0.5)\n",
    "plt.show()\n",
    "\n",
    "\n",
    "plt.figure(figsize=(5,5))\n",
    "positions=[]\n",
    "\n",
    "for word in ('car','cars','child','children'):\n",
    "    vec = word_vecs[word_to_id[word]]\n",
    "    positions.append(vec)\n",
    "    plt.annotate(word,vec)\n",
    "\n",
    "positions = np.array(positions)\n",
    "plt.scatter(positions[:,0], positions[:,1], alpha=0.5)\n",
    "plt.show()\n",
    "\n",
    "\n",
    "plt.figure(figsize=(5,5))\n",
    "positions=[]\n",
    "\n",
    "for word in ('good','better','bad','worse'):\n",
    "    vec = word_vecs[word_to_id[word]]\n",
    "    positions.append(vec)\n",
    "    plt.annotate(word,vec)\n",
    "\n",
    "positions = np.array(positions)\n",
    "plt.scatter(positions[:,0], positions[:,1], alpha=0.5)\n",
    "plt.show()"
   ]
  },
  {
   "attachments": {
    "image.png": {
     "image/png": "[encoded data removed]"
    }
   },
   "cell_type": "markdown",
   "metadata": {},
   "source": [
    "기하학적으로 벡터로 표시하면 다음과 같습니다.\n",
    "![image.png](attachment:image.png)"
   ]
  }
 ],
 "metadata": {
  "kernelspec": {
   "display_name": "Python 3 (ipykernel)",
   "language": "python",
   "name": "python3"
  },
  "language_info": {
   "codemirror_mode": {
    "name": "ipython",
    "version": 3
   },
   "file_extension": ".py",
   "mimetype": "text/x-python",
   "name": "python",
   "nbconvert_exporter": "python",
   "pygments_lexer": "ipython3",
   "version": "3.9.12"
  }
 },
 "nbformat": 4,
 "nbformat_minor": 4
}
