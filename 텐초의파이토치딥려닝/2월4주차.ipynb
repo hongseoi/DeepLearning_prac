{
 "cells": [
  {
   "cell_type": "code",
   "execution_count": 1,
   "metadata": {},
   "outputs": [],
   "source": [
    "# 데이터셋 클래스 형태\n",
    "\n",
    "class Dataset():\n",
    "    def __init__(self):\n",
    "        '''\n",
    "        필요한 데이터 불러오기\n",
    "        '''\n",
    "    def __len__(self):\n",
    "        '''\n",
    "        데이터 개수 반환\n",
    "        '''\n",
    "        return len(data)\n",
    "    \n",
    "    def __getitem__(self, i):\n",
    "        '''\n",
    "        i번째 input 데이터와 \n",
    "        i번째 정답 return\n",
    "        '''\n",
    "        return data[i], label[i]\n",
    "    "
   ]
  },
  {
   "cell_type": "code",
   "execution_count": 4,
   "metadata": {},
   "outputs": [],
   "source": [
    "# 파이토치 신경망의 형태\n",
    "import torch.nn as nn\n",
    "\n",
    "class Net(nn.Module):\n",
    "    def __init__(self):\n",
    "        '''\n",
    "        신경망 구성요소 정의\n",
    "        '''\n",
    "    def forward(self, input):\n",
    "        '''\n",
    "        신경망 동작 정의\n",
    "        '''\n",
    "        return output"
   ]
  },
  {
   "cell_type": "code",
   "execution_count": 5,
   "metadata": {},
   "outputs": [
    {
     "ename": "NameError",
     "evalue": "name 'DataLoader' is not defined",
     "output_type": "error",
     "traceback": [
      "\u001b[1;31m---------------------------------------------------------------------------\u001b[0m",
      "\u001b[1;31mNameError\u001b[0m                                 Traceback (most recent call last)",
      "Cell \u001b[1;32mIn[5], line 4\u001b[0m\n\u001b[0;32m      1\u001b[0m \u001b[38;5;66;03m# 모듈 클래스와 데이터셋 클러스를 이용해 딥러닝 학습 진행\u001b[39;00m\n\u001b[0;32m      2\u001b[0m \n\u001b[0;32m      3\u001b[0m \u001b[38;5;66;03m## 데이터로더에서 데이터와 정답 불러오기\u001b[39;00m\n\u001b[1;32m----> 4\u001b[0m \u001b[38;5;28;01mfor\u001b[39;00m data, label \u001b[38;5;129;01min\u001b[39;00m \u001b[43mDataLoader\u001b[49m():\n\u001b[0;32m      5\u001b[0m     prediction \u001b[38;5;241m=\u001b[39m model(data)\n\u001b[0;32m      7\u001b[0m     loss \u001b[38;5;241m=\u001b[39m LossFunction\n",
      "\u001b[1;31mNameError\u001b[0m: name 'DataLoader' is not defined"
     ]
    }
   ],
   "source": [
    "# 모듈 클래스와 데이터셋 클러스를 이용해 딥러닝 학습 진행\n",
    "\n",
    "## 데이터로더에서 데이터와 정답 불러오기\n",
    "for data, label in DataLoader():\n",
    "    prediction = model(data)\n",
    "\n",
    "    loss = LossFunction(prediction, label)\n",
    "\n",
    "    # 오차 역전파\n",
    "    loss.backword()\n",
    "\n",
    "    # 신경망 가중치 수정\n",
    "    optimizer.step()"
   ]
  },
  {
   "cell_type": "code",
   "execution_count": null,
   "metadata": {},
   "outputs": [],
   "source": []
  }
 ],
 "metadata": {
  "kernelspec": {
   "display_name": "Python 3",
   "language": "python",
   "name": "python3"
  },
  "language_info": {
   "codemirror_mode": {
    "name": "ipython",
    "version": 3
   },
   "file_extension": ".py",
   "mimetype": "text/x-python",
   "name": "python",
   "nbconvert_exporter": "python",
   "pygments_lexer": "ipython3",
   "version": "3.11.5"
  }
 },
 "nbformat": 4,
 "nbformat_minor": 2
}
