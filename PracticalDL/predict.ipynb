{
 "cells": [
  {
   "cell_type": "code",
   "execution_count": 2,
   "metadata": {},
   "outputs": [],
   "source": [
    "import torch"
   ]
  },
  {
   "cell_type": "code",
   "execution_count": 3,
   "metadata": {},
   "outputs": [],
   "source": [
    "device = torch.device('cuda') if torch.cuda.is_available() else torch.device('cpu')\n",
    "\n",
    "def load(fn, device):\n",
    "    d = torch.load(fn, map_location=device)\n",
    "    \n",
    "    return d['model'], d['config']"
   ]
  },
  {
   "cell_type": "code",
   "execution_count": 4,
   "metadata": {},
   "outputs": [],
   "source": [
    "def test(model, x, y, to_be_shown=True):\n",
    "    model.eval()\n",
    "    \n",
    "    with torch.no_grad():\n",
    "        y_hat = model(x)\n",
    "\n",
    "        correct_cnt = (y.squeeze() == torch.argmax(y_hat, dim=-1)).sum()\n",
    "        total_cnt = float(x.size(0))\n",
    "        \n",
    "        accuracy = correct_cnt / total_cnt\n",
    "        print(\"Accuracy: %.4f\" % accuracy)\n",
    "        \n",
    "        if to_be_shown:\n",
    "            plot(x, y_hat)"
   ]
  },
  {
   "cell_type": "code",
   "execution_count": 5,
   "metadata": {},
   "outputs": [
    {
     "ename": "NameError",
     "evalue": "name 'model_fn' is not defined",
     "output_type": "error",
     "traceback": [
      "\u001b[1;31m---------------------------------------------------------------------------\u001b[0m",
      "\u001b[1;31mNameError\u001b[0m                                 Traceback (most recent call last)",
      "Cell \u001b[1;32mIn[5], line 1\u001b[0m\n\u001b[1;32m----> 1\u001b[0m model_dict, train_config \u001b[38;5;241m=\u001b[39m load(\u001b[43mmodel_fn\u001b[49m, device)\n\u001b[0;32m      3\u001b[0m \u001b[38;5;66;03m# Load MNIST test set.\u001b[39;00m\n\u001b[0;32m      4\u001b[0m x, y \u001b[38;5;241m=\u001b[39m load_mnist(is_train\u001b[38;5;241m=\u001b[39m\u001b[38;5;28;01mFalse\u001b[39;00m)\n",
      "\u001b[1;31mNameError\u001b[0m: name 'model_fn' is not defined"
     ]
    }
   ],
   "source": [
    "model_dict, train_config = load(model_fn, device)\n",
    "\n",
    "# Load MNIST test set.\n",
    "x, y = load_mnist(is_train=False)\n",
    "x, y = x.to(device), y.to(device)\n",
    "\n",
    "input_size = int(x.shape[-1])\n",
    "output_size = int(max(y)) + 1\n",
    "\n",
    "model = ImageClassifier(\n",
    "    input_size=input_size,\n",
    "    output_size=output_size,\n",
    "    hidden_sizes=get_hidden_sizes(input_size,\n",
    "                                  output_size,\n",
    "                                  train_config.n_layers),\n",
    "    use_batch_norm=not train_config.use_dropout,\n",
    "    dropout_p=train_config.dropout_p,\n",
    ").to(device)\n",
    "\n",
    "model.load_state_dict(model_dict)\n",
    "\n",
    "test(model, x, y, to_be_shown=False)"
   ]
  },
  {
   "cell_type": "code",
   "execution_count": null,
   "metadata": {},
   "outputs": [],
   "source": []
  }
 ],
 "metadata": {
  "kernelspec": {
   "display_name": "Python 3",
   "language": "python",
   "name": "python3"
  },
  "language_info": {
   "codemirror_mode": {
    "name": "ipython",
    "version": 3
   },
   "file_extension": ".py",
   "mimetype": "text/x-python",
   "name": "python",
   "nbconvert_exporter": "python",
   "pygments_lexer": "ipython3",
   "version": "3.11.4"
  }
 },
 "nbformat": 4,
 "nbformat_minor": 2
}
