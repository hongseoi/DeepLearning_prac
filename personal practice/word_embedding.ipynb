{
 "cells": [
  {
   "cell_type": "code",
   "execution_count": 1,
   "metadata": {},
   "outputs": [
    {
     "name": "stdout",
     "output_type": "stream",
     "text": [
      "WARNING:tensorflow:From c:\\Users\\User\\Desktop\\study\\Kaggle_Transcription_Study\\.conda\\Lib\\site-packages\\keras\\src\\losses.py:2976: The name tf.losses.sparse_softmax_cross_entropy is deprecated. Please use tf.compat.v1.losses.sparse_softmax_cross_entropy instead.\n",
      "\n"
     ]
    }
   ],
   "source": [
    "from tensorflow.keras.models import Sequential\n",
    "from tensorflow.keras.layers import Embedding"
   ]
  },
  {
   "cell_type": "code",
   "execution_count": 7,
   "metadata": {},
   "outputs": [
    {
     "data": {
      "text/plain": [
       "[[1, 2, 3, 4, 1, 2, 5]]"
      ]
     },
     "execution_count": 7,
     "metadata": {},
     "output_type": "execute_result"
    }
   ],
   "source": [
    "# 단어를 벡터로 변환\n",
    "from tensorflow.keras.utils import to_categorical\n",
    "from tensorflow.keras.preprocessing.text import Tokenizer\n",
    "\n",
    "paper = ['많은 것을 바꾸고 싶다면 많은 것을 받아들여라']\n",
    "tknz = Tokenizer()\n",
    "tknz.fit_on_texts(paper)\n",
    "idx_paper = tknz.texts_to_sequences(paper)\n",
    "idx_paper"
   ]
  },
  {
   "cell_type": "code",
   "execution_count": 8,
   "metadata": {},
   "outputs": [
    {
     "name": "stdout",
     "output_type": "stream",
     "text": [
      "6\n",
      "1/1 [==============================] - 0s 57ms/step\n"
     ]
    }
   ],
   "source": [
    "# 단어 벡터를 임베딩 벡터로 변환\n",
    "\n",
    "n = len(tknz.word_index) + 1\n",
    "print(n)\n",
    "\n",
    "model = Sequential()\n",
    "model.add(Embedding(input_dim=n, output_dim=3)) #input은 단어 개수, output은 원하는대로 가능하며 이게 곧 임베딩 벡터 크기가 됨\n",
    "model.compile(optimizer='rmsprop', loss='mse')\n",
    "embedding = model.predict(idx_paper)"
   ]
  },
  {
   "cell_type": "code",
   "execution_count": 9,
   "metadata": {},
   "outputs": [
    {
     "data": {
      "text/plain": [
       "array([[[-0.01585359, -0.04991565,  0.0234745 ],\n",
       "        [-0.00384371,  0.00731828, -0.00896021],\n",
       "        [ 0.01840843, -0.00789982,  0.03507588],\n",
       "        [ 0.04952497,  0.01852166, -0.01545708],\n",
       "        [-0.01585359, -0.04991565,  0.0234745 ],\n",
       "        [-0.00384371,  0.00731828, -0.00896021],\n",
       "        [ 0.01876045, -0.04872909,  0.00243809]]], dtype=float32)"
      ]
     },
     "execution_count": 9,
     "metadata": {},
     "output_type": "execute_result"
    }
   ],
   "source": [
    "embedding"
   ]
  },
  {
   "cell_type": "code",
   "execution_count": null,
   "metadata": {},
   "outputs": [],
   "source": []
  }
 ],
 "metadata": {
  "kernelspec": {
   "display_name": "Python 3",
   "language": "python",
   "name": "python3"
  },
  "language_info": {
   "codemirror_mode": {
    "name": "ipython",
    "version": 3
   },
   "file_extension": ".py",
   "mimetype": "text/x-python",
   "name": "python",
   "nbconvert_exporter": "python",
   "pygments_lexer": "ipython3",
   "version": "3.11.5"
  }
 },
 "nbformat": 4,
 "nbformat_minor": 2
}
