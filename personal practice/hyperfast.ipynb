{
 "cells": [
  {
   "cell_type": "code",
   "execution_count": 1,
   "metadata": {},
   "outputs": [
    {
     "name": "stdout",
     "output_type": "stream",
     "text": [
      "Collecting hyperfast==1.0.2\n",
      "  Using cached hyperfast-1.0.2-py3-none-any.whl.metadata (4.0 kB)\n",
      "Requirement already satisfied: numpy>=1.26.2 in c:\\users\\user\\anaconda3\\envs\\kaggle\\lib\\site-packages (from hyperfast==1.0.2) (1.26.4)\n",
      "Requirement already satisfied: pandas>=2.1.3 in c:\\users\\user\\anaconda3\\envs\\kaggle\\lib\\site-packages (from hyperfast==1.0.2) (2.2.1)\n",
      "Collecting scikit-learn>=1.3.2 (from hyperfast==1.0.2)\n",
      "  Downloading scikit_learn-1.4.1.post1-cp312-cp312-win_amd64.whl.metadata (11 kB)\n",
      "Requirement already satisfied: torch>=1.10.2 in c:\\users\\user\\anaconda3\\envs\\kaggle\\lib\\site-packages (from hyperfast==1.0.2) (2.2.0)\n",
      "Requirement already satisfied: requests>=2.31.0 in c:\\users\\user\\anaconda3\\envs\\kaggle\\lib\\site-packages (from hyperfast==1.0.2) (2.31.0)\n",
      "Requirement already satisfied: python-dateutil>=2.8.2 in c:\\users\\user\\anaconda3\\envs\\kaggle\\lib\\site-packages (from pandas>=2.1.3->hyperfast==1.0.2) (2.8.2)\n",
      "Requirement already satisfied: pytz>=2020.1 in c:\\users\\user\\anaconda3\\envs\\kaggle\\lib\\site-packages (from pandas>=2.1.3->hyperfast==1.0.2) (2023.3.post1)\n",
      "Requirement already satisfied: tzdata>=2022.7 in c:\\users\\user\\anaconda3\\envs\\kaggle\\lib\\site-packages (from pandas>=2.1.3->hyperfast==1.0.2) (2023.3)\n",
      "Requirement already satisfied: charset-normalizer<4,>=2 in c:\\users\\user\\anaconda3\\envs\\kaggle\\lib\\site-packages (from requests>=2.31.0->hyperfast==1.0.2) (2.0.4)\n",
      "Requirement already satisfied: idna<4,>=2.5 in c:\\users\\user\\anaconda3\\envs\\kaggle\\lib\\site-packages (from requests>=2.31.0->hyperfast==1.0.2) (3.4)\n",
      "Requirement already satisfied: urllib3<3,>=1.21.1 in c:\\users\\user\\anaconda3\\envs\\kaggle\\lib\\site-packages (from requests>=2.31.0->hyperfast==1.0.2) (2.0.3)\n",
      "Requirement already satisfied: certifi>=2017.4.17 in c:\\users\\user\\anaconda3\\envs\\kaggle\\lib\\site-packages (from requests>=2.31.0->hyperfast==1.0.2) (2024.2.2)\n",
      "Requirement already satisfied: scipy>=1.6.0 in c:\\users\\user\\anaconda3\\envs\\kaggle\\lib\\site-packages (from scikit-learn>=1.3.2->hyperfast==1.0.2) (1.12.0)\n",
      "Requirement already satisfied: joblib>=1.2.0 in c:\\users\\user\\anaconda3\\envs\\kaggle\\lib\\site-packages (from scikit-learn>=1.3.2->hyperfast==1.0.2) (1.2.0)\n",
      "Requirement already satisfied: threadpoolctl>=2.0.0 in c:\\users\\user\\anaconda3\\envs\\kaggle\\lib\\site-packages (from scikit-learn>=1.3.2->hyperfast==1.0.2) (2.2.0)\n",
      "Requirement already satisfied: filelock in c:\\users\\user\\anaconda3\\envs\\kaggle\\lib\\site-packages (from torch>=1.10.2->hyperfast==1.0.2) (3.13.1)\n",
      "Requirement already satisfied: typing-extensions>=4.8.0 in c:\\users\\user\\anaconda3\\envs\\kaggle\\lib\\site-packages (from torch>=1.10.2->hyperfast==1.0.2) (4.9.0)\n",
      "Requirement already satisfied: sympy in c:\\users\\user\\anaconda3\\envs\\kaggle\\lib\\site-packages (from torch>=1.10.2->hyperfast==1.0.2) (1.12)\n",
      "Requirement already satisfied: networkx in c:\\users\\user\\anaconda3\\envs\\kaggle\\lib\\site-packages (from torch>=1.10.2->hyperfast==1.0.2) (3.1)\n",
      "Requirement already satisfied: jinja2 in c:\\users\\user\\anaconda3\\envs\\kaggle\\lib\\site-packages (from torch>=1.10.2->hyperfast==1.0.2) (3.1.3)\n",
      "Requirement already satisfied: fsspec in c:\\users\\user\\anaconda3\\envs\\kaggle\\lib\\site-packages (from torch>=1.10.2->hyperfast==1.0.2) (2024.3.1)\n",
      "Requirement already satisfied: six>=1.5 in c:\\users\\user\\anaconda3\\envs\\kaggle\\lib\\site-packages (from python-dateutil>=2.8.2->pandas>=2.1.3->hyperfast==1.0.2) (1.16.0)\n",
      "Requirement already satisfied: MarkupSafe>=2.0 in c:\\users\\user\\anaconda3\\envs\\kaggle\\lib\\site-packages (from jinja2->torch>=1.10.2->hyperfast==1.0.2) (2.1.3)\n",
      "Requirement already satisfied: mpmath>=0.19 in c:\\users\\user\\anaconda3\\envs\\kaggle\\lib\\site-packages (from sympy->torch>=1.10.2->hyperfast==1.0.2) (1.3.0)\n",
      "Using cached hyperfast-1.0.2-py3-none-any.whl (19 kB)\n",
      "Downloading scikit_learn-1.4.1.post1-cp312-cp312-win_amd64.whl (10.6 MB)\n",
      "   ---------------------------------------- 0.0/10.6 MB ? eta -:--:--\n",
      "   ---------------------------------------- 0.0/10.6 MB 1.3 MB/s eta 0:00:09\n",
      "    --------------------------------------- 0.2/10.6 MB 1.8 MB/s eta 0:00:06\n",
      "   - -------------------------------------- 0.5/10.6 MB 3.1 MB/s eta 0:00:04\n",
      "   -- ------------------------------------- 0.7/10.6 MB 4.2 MB/s eta 0:00:03\n",
      "   ---- ----------------------------------- 1.2/10.6 MB 5.6 MB/s eta 0:00:02\n",
      "   ----- ---------------------------------- 1.4/10.6 MB 5.3 MB/s eta 0:00:02\n",
      "   ------- -------------------------------- 1.9/10.6 MB 5.8 MB/s eta 0:00:02\n",
      "   -------- ------------------------------- 2.2/10.6 MB 6.2 MB/s eta 0:00:02\n",
      "   --------- ------------------------------ 2.6/10.6 MB 6.4 MB/s eta 0:00:02\n",
      "   ----------- ---------------------------- 3.0/10.6 MB 6.6 MB/s eta 0:00:02\n",
      "   ------------ --------------------------- 3.3/10.6 MB 6.5 MB/s eta 0:00:02\n",
      "   ------------- -------------------------- 3.6/10.6 MB 6.5 MB/s eta 0:00:02\n",
      "   -------------- ------------------------- 3.9/10.6 MB 6.5 MB/s eta 0:00:02\n",
      "   --------------- ------------------------ 4.1/10.6 MB 6.5 MB/s eta 0:00:02\n",
      "   --------------- ------------------------ 4.2/10.6 MB 6.1 MB/s eta 0:00:02\n",
      "   ---------------- ----------------------- 4.5/10.6 MB 6.1 MB/s eta 0:00:02\n",
      "   ----------------- ---------------------- 4.5/10.6 MB 6.0 MB/s eta 0:00:02\n",
      "   ----------------- ---------------------- 4.7/10.6 MB 5.5 MB/s eta 0:00:02\n",
      "   ------------------ --------------------- 4.8/10.6 MB 5.7 MB/s eta 0:00:02\n",
      "   ------------------ --------------------- 5.0/10.6 MB 5.4 MB/s eta 0:00:02\n",
      "   ------------------- -------------------- 5.3/10.6 MB 5.3 MB/s eta 0:00:02\n",
      "   -------------------- ------------------- 5.4/10.6 MB 5.2 MB/s eta 0:00:02\n",
      "   -------------------- ------------------- 5.6/10.6 MB 5.3 MB/s eta 0:00:01\n",
      "   ---------------------- ----------------- 5.9/10.6 MB 5.3 MB/s eta 0:00:01\n",
      "   ---------------------- ----------------- 6.0/10.6 MB 5.1 MB/s eta 0:00:01\n",
      "   ----------------------- ---------------- 6.3/10.6 MB 5.2 MB/s eta 0:00:01\n",
      "   ------------------------- -------------- 6.7/10.6 MB 5.3 MB/s eta 0:00:01\n",
      "   -------------------------- ------------- 7.1/10.6 MB 5.4 MB/s eta 0:00:01\n",
      "   ---------------------------- ----------- 7.5/10.6 MB 5.5 MB/s eta 0:00:01\n",
      "   ----------------------------- ---------- 7.9/10.6 MB 5.6 MB/s eta 0:00:01\n",
      "   ------------------------------- -------- 8.2/10.6 MB 5.7 MB/s eta 0:00:01\n",
      "   -------------------------------- ------- 8.6/10.6 MB 5.7 MB/s eta 0:00:01\n",
      "   --------------------------------- ------ 9.0/10.6 MB 5.9 MB/s eta 0:00:01\n",
      "   --------------------------------- ------ 9.0/10.6 MB 5.9 MB/s eta 0:00:01\n",
      "   ----------------------------------- ---- 9.3/10.6 MB 5.7 MB/s eta 0:00:01\n",
      "   ----------------------------------- ---- 9.4/10.6 MB 5.6 MB/s eta 0:00:01\n",
      "   ------------------------------------ --- 9.8/10.6 MB 5.7 MB/s eta 0:00:01\n",
      "   ------------------------------------- -- 9.9/10.6 MB 5.7 MB/s eta 0:00:01\n",
      "   -------------------------------------- - 10.2/10.6 MB 5.6 MB/s eta 0:00:01\n",
      "   -------------------------------------- - 10.3/10.6 MB 5.6 MB/s eta 0:00:01\n",
      "   ---------------------------------------  10.6/10.6 MB 5.7 MB/s eta 0:00:01\n",
      "   ---------------------------------------- 10.6/10.6 MB 5.6 MB/s eta 0:00:00\n",
      "Installing collected packages: scikit-learn, hyperfast\n",
      "  Attempting uninstall: scikit-learn\n",
      "    Found existing installation: scikit-learn 1.3.0\n",
      "    Uninstalling scikit-learn-1.3.0:\n",
      "      Successfully uninstalled scikit-learn-1.3.0\n",
      "Successfully installed hyperfast-1.0.2 scikit-learn-1.4.1.post1\n"
     ]
    }
   ],
   "source": [
    "! pip install hyperfast==1.0.2\n"
   ]
  },
  {
   "cell_type": "code",
   "execution_count": null,
   "metadata": {},
   "outputs": [],
   "source": []
  }
 ],
 "metadata": {
  "kernelspec": {
   "display_name": "Python 3",
   "language": "python",
   "name": "python3"
  },
  "language_info": {
   "codemirror_mode": {
    "name": "ipython",
    "version": 3
   },
   "file_extension": ".py",
   "mimetype": "text/x-python",
   "name": "python",
   "nbconvert_exporter": "python",
   "pygments_lexer": "ipython3",
   "version": "3.12.2"
  }
 },
 "nbformat": 4,
 "nbformat_minor": 2
}
