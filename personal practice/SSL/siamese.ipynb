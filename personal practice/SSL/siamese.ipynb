{
 "cells": [
  {
   "cell_type": "code",
   "execution_count": null,
   "metadata": {},
   "outputs": [],
   "source": [
    "import pandas as pd\n",
    "import os\n",
    "\n",
    "class SiameseDataset():\n",
    "    def __init__(self, training_csv=None, training_dir=None, transform=None):\n",
    "        self.train_df = pd.read_csv(training_csv)\n",
    "        self.train_df.columns = ['image1', 'image2', 'label']\n",
    "        self.train_dir = training_dir\n",
    "        self.transform = transform\n",
    "\n",
    "    def __getitem__(self, index):\n",
    "        image1_path = os.path.join(self.train_dir, self.train_df.iat[index, 0]) # df.iat[index, column]: 정수기반 인덱싱으로 데이터프레임에서 필요한 값 가져옴\n",
    "        image2_path = os.path.join(self.train_df.iat[index, 1])\n",
    "\n",
    "        image0 = Image.open(image1_path)\n",
    "        image1 = Image.open(image2_path)\n",
    "        image0 = image0.convert('L')\n",
    "        image1 = image1.convert('L')\n",
    "\n",
    "        # APPLY Image transformation\n",
    "        if self.transform is not None:\n",
    "            img0 = self.transform(image0)\n",
    "            img1 = self.transform(image1)\n",
    "        \n",
    "        return img0, img2, th.from_numpy\n",
    "\n",
    "    def __len__():\n",
    "\n",
    "    "
   ]
  }
 ],
 "metadata": {
  "language_info": {
   "name": "python"
  }
 },
 "nbformat": 4,
 "nbformat_minor": 2
}
