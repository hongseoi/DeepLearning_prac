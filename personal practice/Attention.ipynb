{
 "cells": [
  {
   "cell_type": "markdown",
   "metadata": {},
   "source": [
    "# Type of Attention mechanism\n",
    "- ScaledDotProductAttention\n",
    "- DotProductAttention\n",
    "- AddictiveAttention\n",
    "- LocationawareAttention\n",
    "- MultiheadLocationawareAttention\n",
    "- MultiheadAttention\n",
    "- RelativeMultiheadAttention\n",
    "- CustomizingAttention\n",
    "- CrossAttention\n",
    "- GlobalAttention\n",
    "- HardAttention\n",
    "- SoftAttention\n",
    "- HierarchicalAttention\n",
    "- LocalAttention\n",
    "- MaskedAttention\n",
    "- SelfAttention\n"
   ]
  },
  {
   "cell_type": "code",
   "execution_count": 1,
   "metadata": {},
   "outputs": [
    {
     "ename": "ModuleNotFoundError",
     "evalue": "No module named 'torch.nn.fucntional'",
     "output_type": "error",
     "traceback": [
      "\u001b[1;31m---------------------------------------------------------------------------\u001b[0m",
      "\u001b[1;31mModuleNotFoundError\u001b[0m                       Traceback (most recent call last)",
      "Cell \u001b[1;32mIn[1], line 4\u001b[0m\n\u001b[0;32m      2\u001b[0m \u001b[38;5;28;01mimport\u001b[39;00m \u001b[38;5;21;01mtorch\u001b[39;00m\n\u001b[0;32m      3\u001b[0m \u001b[38;5;28;01mimport\u001b[39;00m \u001b[38;5;21;01mtorch\u001b[39;00m\u001b[38;5;21;01m.\u001b[39;00m\u001b[38;5;21;01mnn\u001b[39;00m \u001b[38;5;28;01mas\u001b[39;00m \u001b[38;5;21;01mnn\u001b[39;00m\n\u001b[1;32m----> 4\u001b[0m \u001b[38;5;28;01mimport\u001b[39;00m \u001b[38;5;21;01mtorch\u001b[39;00m\u001b[38;5;21;01m.\u001b[39;00m\u001b[38;5;21;01mnn\u001b[39;00m\u001b[38;5;21;01m.\u001b[39;00m\u001b[38;5;21;01mfucntional\u001b[39;00m \u001b[38;5;28;01mas\u001b[39;00m \u001b[38;5;21;01mF\u001b[39;00m\n\u001b[0;32m      5\u001b[0m \u001b[38;5;28;01mfrom\u001b[39;00m \u001b[38;5;21;01mtorch\u001b[39;00m \u001b[38;5;28;01mimport\u001b[39;00m Tensor\n",
      "\u001b[1;31mModuleNotFoundError\u001b[0m: No module named 'torch.nn.fucntional'"
     ]
    }
   ],
   "source": [
    "import math\n",
    "import torch\n",
    "import torch.nn as nn\n",
    "import torch.nn.fucntional as F\n",
    "from torch import Tensor\n",
    "import numpy as np\n",
    "from typing import Optional, Tuple"
   ]
  },
  {
   "cell_type": "markdown",
   "metadata": {},
   "source": [
    "## ScaledDotProductAttention\n",
    "- Attention is all you need 논문에서 제시\n",
    "- query와 key의 dot product 계산 후 sqrt(attention dim)으로 나누고, softmax 적용\n",
    "\n",
    "### Inputs: query, key, value, mask\n",
    "- **query** (batch, q_len, d_model): tensor containing projection vector for decoder.\n",
    "- **key** (batch, k_len, d_model): tensor containing projection vector for encoder.\n",
    "- **value** (batch, v_len, d_model): tensor containing features of the encoded input sequence.\n",
    "- **mask** (-): tensor containing indices to be masked\n",
    "\n",
    "### Returns: context, attn\n",
    "- **context**: tensor containing the context vector from attention mechanism.\n",
    "- **attn**: tensor containing the attention (alignment) from the encoder outputs."
   ]
  },
  {
   "cell_type": "code",
   "execution_count": null,
   "metadata": {},
   "outputs": [],
   "source": []
  },
  {
   "cell_type": "code",
   "execution_count": null,
   "metadata": {},
   "outputs": [],
   "source": []
  }
 ],
 "metadata": {
  "kernelspec": {
   "display_name": "pytorch_tutorial",
   "language": "python",
   "name": "python3"
  },
  "language_info": {
   "codemirror_mode": {
    "name": "ipython",
    "version": 3
   },
   "file_extension": ".py",
   "mimetype": "text/x-python",
   "name": "python",
   "nbconvert_exporter": "python",
   "pygments_lexer": "ipython3",
   "version": "3.10.12"
  }
 },
 "nbformat": 4,
 "nbformat_minor": 2
}
