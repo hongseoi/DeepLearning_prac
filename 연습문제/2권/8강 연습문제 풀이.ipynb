{
 "cells": [
  {
   "cell_type": "markdown",
   "id": "c9d41a6f",
   "metadata": {},
   "source": [
    "**1.(i) 활성화 함수가 sigmoid인 이층 신경망이 dictionary\n",
    "$$\n",
    "\\{W_1 : \\begin{bmatrix} 0&0&0&0&-1 \\\\ 1&0&0&0&0 \\\\ 0&1&0&0&0 \\\\ 0&0&1&0&0 \\\\ 0&0&0&1&0\\end{bmatrix},~\n",
    "b_1 : [0,0,0,0,0],~\n",
    "W_2 : \\begin{bmatrix} 0&0&0&0&1 \\\\ 1&0&0&0&0 \\\\ 0&1&0&0&0 \\\\ 0&0&1&0&0 \\\\ 0&0&0&1&0 \\end{bmatrix},~\n",
    "b_2 : [0,0,0,0,0]\n",
    "\\}\n",
    "$$\n",
    "로 주어져 있다.\n",
    "데이터 ${\\bf x}=[\\log 2,0,0,0,0]$의 라벨이 $[0,0,0,1,0]$이라 하자.\n",
    "손실함수는 교차 엔트로피(cross entropy)에 $L^2$-규제 ($L^2$-regularization)가 가해져 있다.\n",
    "가중치 감소의 세기가 $\\lambda=1$\n",
    "일 때, 데이터 $\\bf x$의 손실함수 값을 구하시오.**"
   ]
  },
  {
   "cell_type": "markdown",
   "id": "02b7f0e3",
   "metadata": {},
   "source": [
    "첫번째 Affine 변환을 합니다.\n",
    "$$\n",
    "\\begin{pmatrix}\n",
    "\\log 2&0&0&0&0\n",
    "\\end{pmatrix}\n",
    "\\begin{pmatrix} 0&0&0&0&-1 \\\\ 1&0&0&0&0 \\\\ 0&1&0&0&0 \\\\ 0&0&1&0&0 \\\\ 0&0&0&1&0\\end{pmatrix}\n",
    "=\n",
    "\\begin{pmatrix}\n",
    "0&0&0&0&-\\log 2\n",
    "\\end{pmatrix}\n",
    "$$\n",
    "시그모이드 함수를 적용합니다.\n",
    "$$\n",
    "({1 \\over 1+e^0}, {1 \\over 1+e^0}, {1 \\over 1+e^0}, {1 \\over 1+e^0}, {1 \\over 1+e^{\\log 2}})\n",
    "= ( {1 \\over 2}, {1 \\over 2}, {1 \\over 2}, {1 \\over 2}, {1 \\over 3})\n",
    "$$\n",
    "두번째 Affine 변환을 합니다.\n",
    "$$\n",
    "\\begin{pmatrix}\n",
    "{1 \\over 2}&{1 \\over 2}&{1 \\over 2}&{1 \\over 2}&{1 \\over 3}\n",
    "\\end{pmatrix}\n",
    "\\begin{pmatrix} 0&0&0&0&1 \\\\ 1&0&0&0&0 \\\\ 0&1&0&0&0 \\\\ 0&0&1&0&0 \\\\ 0&0&0&1&0 \\end{pmatrix}\n",
    "=\n",
    "\\begin{pmatrix}\n",
    "{1 \\over 2}&{1 \\over 2}&{1 \\over 2}&{1 \\over 3}&{1 \\over 2}\n",
    "\\end{pmatrix}\n",
    "$$\n",
    "소프트맥스 변환을 합니다.  \n",
    "라벨 위치의 확률만 계산하면 됩니다.\n",
    "$$\n",
    "(*,*,*,{e^{1/3} \\over 4e^{1/2}+e^{1/3}},*)\n",
    "$$\n",
    "라벨 위치의 확률에 $-\\log$를 씌워서 교차 엔트로피를 구합니다.\n",
    "$$\n",
    "-\\log {e^{1/3} \\over 4e^{1/2}+e^{1/3}} = -\\log {1 \\over 4e^{1/6}+1} = \\log (4e^{1/6}+1)\n",
    "$$\n",
    "50개 가중치중에 9개가 1, 한개가 -1, 나머지가 모두 0이기 때문에 모든 가중치들의 제곱의 합은 10입니다.  \n",
    "$L^2$-페널티를 구합니다.\n",
    "$$\n",
    "{1 \\over 2} \\times \\lambda \\times (\\sum_{i,j=1}^5 w_{i,j}^2 + \\sum_{i,j=1}^5 {w'}_{i,j}^2) = 5\n",
    "$$\n",
    "교차엔트로피와 $L^2$-페널티를 더한 값이 손실함수 값입니다.\n",
    "$$\n",
    "5+\\log (4e^{1/6}+1)\n",
    "$$"
   ]
  },
  {
   "cell_type": "markdown",
   "id": "1edec92d",
   "metadata": {},
   "source": [
    "**(ii) 코드로 검산하시오.**"
   ]
  },
  {
   "cell_type": "code",
   "execution_count": 1,
   "id": "42fa8b6e",
   "metadata": {},
   "outputs": [
    {
     "data": {
      "text/plain": [
       "6.744919690825107"
      ]
     },
     "execution_count": 1,
     "metadata": {},
     "output_type": "execute_result"
    }
   ],
   "source": [
    "import sys\n",
    "sys.path.append('C://Users//HAN//Documents//Deep Learning from Scratch') # 각자의 경로로 수정해주세요.\n",
    "import numpy as np\n",
    "from common.layers import Affine, Sigmoid, SoftmaxWithLoss\n",
    "\n",
    "x = np.array([[np.log(2),0,0,0,0]])\n",
    "\n",
    "W1 = np.array([[0,0,0,0,-1],[1,0,0,0,0],[0,1,0,0,0],[0,0,1,0,0],[0,0,0,1,0]])\n",
    "b1 = np.zeros(5)\n",
    "affine1 = Affine(W1,b1)\n",
    "x = affine1.forward(x)\n",
    "\n",
    "relu = Sigmoid()\n",
    "x = relu.forward(x)\n",
    "\n",
    "W2 = np.array([[0,0,0,0,1],[1,0,0,0,0],[0,1,0,0,0],[0,0,1,0,0],[0,0,0,1,0]])\n",
    "b2 = np.zeros(5)\n",
    "affine2 = Affine(W2,b2)\n",
    "x = affine2.forward(x)\n",
    "\n",
    "t = np.array([[0,0,0,1,0]])\n",
    "last = SoftmaxWithLoss()\n",
    "L_c = last.forward(x,t)\n",
    "\n",
    "weight_decay_lambda = 1\n",
    "L_p = 0.5*weight_decay_lambda*(np.sum(W1**2)+np.sum(W2**2))\n",
    "\n",
    "L_c+L_p"
   ]
  },
  {
   "cell_type": "code",
   "execution_count": 2,
   "id": "757df335",
   "metadata": {},
   "outputs": [
    {
     "data": {
      "text/plain": [
       "6.744919690825107"
      ]
     },
     "execution_count": 2,
     "metadata": {},
     "output_type": "execute_result"
    }
   ],
   "source": [
    "5+np.log(4*np.exp(1/6)+1)"
   ]
  },
  {
   "cell_type": "markdown",
   "id": "d1199b9a",
   "metadata": {},
   "source": [
    "**2. (i) (1번 문제 계속) 교차 엔트로피(cross entropy)값을 $L_c$라 하고 $L^2$-규제 ($L^2$-regularization)까지 고려한 손실함수 값을 $L$이라 하자.\n",
    "첫번째 Affine층에 흘러들어온 교차 엔트로피의 미분이\n",
    "$$\n",
    "{\\partial L_c \\over \\partial {\\bf y}} = \\begin{bmatrix} 0&1&1&1&0 \\end{bmatrix}\n",
    "$$\n",
    "으로 주어져 있다.\n",
    "여기서, $\\bf y$는 첫번째 Affine층의 출력값이다.\n",
    "$L^2$-규제 ($L^2$-regularization)까지 고려한 손실함수 $L$의 첫번째 가중치 $W_1$에 대한 미분\n",
    "$$\n",
    "\\partial L \\over \\partial W_1\n",
    "$$\n",
    "을 구하시오.**"
   ]
  },
  {
   "cell_type": "markdown",
   "id": "2b8e179d",
   "metadata": {},
   "source": [
    "손실함수 $L$은 교차 엔트로피 $L_c$와 $L^2$-페널티 $L_p$의 합입니다.\n",
    "$$\n",
    "L = L_c + L_p\n",
    "$$\n",
    "미분은 선형입니다.\n",
    "$$\n",
    "{\\partial L \\over \\partial W_1} = {\\partial L_c \\over \\partial W_1} + {\\partial L_p \\over \\partial W_1}\n",
    "$$\n",
    "Affine층의 역전파 공식을 적용합니다.\n",
    "$$\n",
    "{\\partial L_c \\over \\partial W_1} =\n",
    "\\begin{pmatrix}\n",
    "\\log 2\\\\0\\\\0\\\\0\\\\0\n",
    "\\end{pmatrix}\n",
    "\\begin{pmatrix}\n",
    "0&1&1&1&0\n",
    "\\end{pmatrix}\n",
    "=\n",
    "\\begin{pmatrix}\n",
    "0&\\log 2&\\log 2&\\log 2&0\\\\\n",
    "0&0&0&0&0\\\\\n",
    "0&0&0&0&0\\\\\n",
    "0&0&0&0&0\\\\\n",
    "0&0&0&0&0\n",
    "\\end{pmatrix}\n",
    "$$\n",
    "$L^2$-penalty를 $W_1$으로 미분합니다.\n",
    "$$\n",
    "{\\partial L_p \\over \\partial W_1} =\n",
    "\\lambda W_1 =\n",
    "\\begin{pmatrix} 0&0&0&0&-1 \\\\ 1&0&0&0&0 \\\\ 0&1&0&0&0 \\\\ 0&0&1&0&0 \\\\ 0&0&0&1&0\\end{pmatrix}\n",
    "$$\n",
    "두 그레디언트를 더합니다.\n",
    "$$\n",
    "{\\partial L \\over \\partial W_1} = {\\partial L_c \\over \\partial W_1} + {\\partial L_p \\over \\partial W_1} =\n",
    "\\begin{pmatrix} 0&\\log 2&\\log 2&\\log 2&-1 \\\\ 1&0&0&0&0 \\\\ 0&1&0&0&0 \\\\ 0&0&1&0&0 \\\\ 0&0&0&1&0\\end{pmatrix}\n",
    "$$"
   ]
  },
  {
   "cell_type": "markdown",
   "id": "dd7bde0e",
   "metadata": {},
   "source": [
    "**(ii) 코드로 검산하시오.**"
   ]
  },
  {
   "cell_type": "code",
   "execution_count": 3,
   "id": "cbb946e6",
   "metadata": {},
   "outputs": [
    {
     "data": {
      "text/plain": [
       "array([[ 0.        ,  0.69314718,  0.69314718,  0.69314718, -1.        ],\n",
       "       [ 1.        ,  0.        ,  0.        ,  0.        ,  0.        ],\n",
       "       [ 0.        ,  1.        ,  0.        ,  0.        ,  0.        ],\n",
       "       [ 0.        ,  0.        ,  1.        ,  0.        ,  0.        ],\n",
       "       [ 0.        ,  0.        ,  0.        ,  1.        ,  0.        ]])"
      ]
     },
     "execution_count": 3,
     "metadata": {},
     "output_type": "execute_result"
    }
   ],
   "source": [
    "dout = np.array([[0,1,1,1,0]])\n",
    "\n",
    "affine1.backward(dout)\n",
    "\n",
    "affine1.dW + weight_decay_lambda * W1"
   ]
  },
  {
   "cell_type": "markdown",
   "id": "bcf0df83",
   "metadata": {},
   "source": [
    "**3.(i) 활성화 함수가 Relu인 이층 신경망이 dictionary\n",
    "$$\n",
    "\\{W_1 : \\begin{bmatrix} 1&-1&1&-1&1 \\\\ -1&1&-1&1&-1 \\\\ 1&-1&1&-1&1 \\\\ -1&1&-1&1&-1 \\\\ 1&-1&1&-1&1 \\end{bmatrix},~\n",
    "b_1 : [0,0,0,0,0],~\n",
    "W_2 : \\begin{bmatrix} 1&-1&1&-1&1 \\\\ -1&1&-1&1&-1 \\\\ 1&-1&1&-1&1 \\\\ -1&1&-1&1&-1 \\\\ 1&-1&1&-1&1 \\end{bmatrix},~\n",
    "b_2 : [0,0,0,0,0]\n",
    "\\}\n",
    "$$\n",
    "로 주어져 있다.\n",
    "데이터 ${\\bf x}=[1,2,3,4,5]$의 라벨이 $[1,0,0,0,0]$이라 하자.\n",
    "손실함수는 교차 엔트로피(cross entropy)에 $L^2$-규제 ($L^2$-regularization)가 가해져 있다.\n",
    "가중치 감소의 세기가 $\\lambda={1 \\over 5}$\n",
    "일 때, 데이터 $\\bf x$의 손실함수 값을 구하시오.**"
   ]
  },
  {
   "cell_type": "markdown",
   "id": "1aca88df",
   "metadata": {},
   "source": [
    "첫번째 Affine 변환을 합니다.\n",
    "$$\n",
    "\\begin{pmatrix}\n",
    "1&2&3&4&5\n",
    "\\end{pmatrix}\n",
    "\\begin{pmatrix} 1&-1&1&-1&1 \\\\ -1&1&-1&1&-1 \\\\ 1&-1&1&-1&1 \\\\ -1&1&-1&1&-1 \\\\ 1&-1&1&-1&1 \\end{pmatrix}\n",
    "=\n",
    "\\begin{pmatrix}\n",
    "3&-3&3&-3&3\n",
    "\\end{pmatrix}\n",
    "$$\n",
    "Relu 함수를 적용합니다.\n",
    "$$\n",
    "(3,0,3,0,3)\n",
    "$$\n",
    "두번째 Affine 변환을 합니다.\n",
    "$$\n",
    "\\begin{pmatrix}\n",
    "3&0&3&0&3\n",
    "\\end{pmatrix}\n",
    "\\begin{pmatrix} 1&-1&1&-1&1 \\\\ -1&1&-1&1&-1 \\\\ 1&-1&1&-1&1 \\\\ -1&1&-1&1&-1 \\\\ 1&-1&1&-1&1 \\end{pmatrix}\n",
    "=\n",
    "\\begin{pmatrix}\n",
    "9&-9&9&-9&9\n",
    "\\end{pmatrix}\n",
    "$$\n",
    "소프트맥스 변환을 합니다.  \n",
    "라벨 위치의 확률만 계산하면 됩니다.\n",
    "$$\n",
    "({e^9 \\over 3e^9+2e^{-9}},*,*,*,*)\n",
    "$$\n",
    "라벨 위치의 확률에 $-\\log$를 씌워서 교차 엔트로피를 구합니다.\n",
    "$$\n",
    "-\\log {e^9 \\over 3e^9+2e^{-9}} = -\\log {1 \\over 3+2e^{-18}} = \\log (3+2e^{-18})\n",
    "$$\n",
    "50개 가중치는 모두 1 또는 -1이기 때문에 모든 가중치들의 제곱의 합은 50입니다.  \n",
    "$L^2$-페널티를 구합니다.\n",
    "$$\n",
    "{1 \\over 2} \\times \\lambda \\times (\\sum_{i,j=1}^5 w_{i,j}^2 + \\sum_{i,j=1}^5 {w'}_{i,j}^2) = 5\n",
    "$$\n",
    "교차엔트로피와 $L^2$-페널티를 더한 값이 손실함수 값입니다.\n",
    "$$\n",
    "5+\\log (3+2e^{-18})\n",
    "$$"
   ]
  },
  {
   "cell_type": "markdown",
   "id": "3d0559ff",
   "metadata": {},
   "source": [
    "**(ii) 코드로 검산하시오.**"
   ]
  },
  {
   "cell_type": "code",
   "execution_count": 4,
   "id": "060ae5ea",
   "metadata": {},
   "outputs": [
    {
     "data": {
      "text/plain": [
       "3.877968048850379"
      ]
     },
     "execution_count": 4,
     "metadata": {},
     "output_type": "execute_result"
    }
   ],
   "source": [
    "from common.layers import Relu\n",
    "\n",
    "x = np.array([[1,2,1,2,1]])\n",
    "\n",
    "W1 = np.array([[1,-1,1,-1,1],[-1,1,-1,1,-1],[1,-1,1,-1,1],[-1,1,-1,1,-1],[1,-1,1,-1,1]])\n",
    "b1 = np.zeros(5)\n",
    "affine1 = Affine(W1,b1)\n",
    "x = affine1.forward(x)\n",
    "\n",
    "relu = Relu()\n",
    "x = relu.forward(x)\n",
    "\n",
    "W2 = np.array([[1,0,0,0,1],[0,1,0,1,0],[0,0,1,0,0],[0,1,0,1,0],[1,0,0,0,1]])\n",
    "b2 = np.zeros(5)\n",
    "affine2 = Affine(W2,b2)\n",
    "x = affine2.forward(x)\n",
    "\n",
    "t = np.array([[1,0,0,0,0]])\n",
    "last = SoftmaxWithLoss()\n",
    "L_c = last.forward(x,t)\n",
    "\n",
    "weight_decay_lambda = 1/17\n",
    "L_p = 0.5*weight_decay_lambda*(np.sum(W1**2)+np.sum(W2**2))\n",
    "\n",
    "L_c+L_p"
   ]
  },
  {
   "cell_type": "code",
   "execution_count": 5,
   "id": "851b74bb",
   "metadata": {},
   "outputs": [
    {
     "data": {
      "text/plain": [
       "3.8779680488503785"
      ]
     },
     "execution_count": 5,
     "metadata": {},
     "output_type": "execute_result"
    }
   ],
   "source": [
    "1+np.log(3+2*np.exp(2))"
   ]
  },
  {
   "cell_type": "markdown",
   "id": "f68dea44",
   "metadata": {},
   "source": [
    "**4. 교차 엔트로피(cross entropy)값을 $L_c$라 하고 $L^2$-규제 ($L^2$-regularization)까지 고려한 손실함수 값을 $L$이라 하자. $k$번째 Affine층의 가중치 행렬 $W_k$, 편향벡터  $b_k$ 그리고 가중치 감소 계수  $\\lambda$에 대하여 등식\n",
    "$$\n",
    "{\\partial L \\over \\partial W_k} = {\\partial L_c \\over \\partial W_k} + \\lambda W_k, \\qquad\n",
    "{\\partial L \\over \\partial b_k} = {\\partial L_c \\over \\partial b_k}\n",
    "$$\n",
    "을 설명하시오. (편의를 위해 $W_k$를 2$\\times$2 행렬, $b_k$를 2차원 벡터라 가정해도 좋다.)**"
   ]
  },
  {
   "cell_type": "markdown",
   "id": "d7bef0ae",
   "metadata": {},
   "source": [
    "손실함수 $L$은 교차 엔트로피 $L_c$와 $L^2$-페널티 $L_p$의 합입니다.\n",
    "$$\n",
    "L = L_c + L_p\n",
    "$$\n",
    "미분은 선형입니다.\n",
    "$$\n",
    "{\\partial L \\over \\partial W_k} = {\\partial L_c \\over \\partial W_k} + {\\partial L_p \\over \\partial W_k}\n",
    "$$\n",
    "$W_k  = \\begin{pmatrix} w_{11} & w_{12} \\\\ w_{21} & w_{22} \\end{pmatrix}$라 하죠.  \n",
    "$L^2$-페널티는 $L_p = {1 \\over 2} \\times \\lambda \\times (w_{11}^2+w_{12}^2+w_{21}^2+w_{22}^2 + $나머지 가중치들의 제곱의 합$)$입니다.  \n",
    "$w_{ij}$로 미분하면 $w_{ij}^2$을 제외한 나머지 변수들은 모두 죽습니다.  \n",
    "$$\n",
    "{\\partial L_p \\over \\partial W_k} =\n",
    "\\begin{pmatrix}\n",
    "{\\partial L_p \\over \\partial w_{11}} & {\\partial L_p \\over \\partial w_{12}} \\\\\n",
    "{\\partial L_p \\over \\partial w_{21}} & {\\partial L_p \\over \\partial w_{22}}\n",
    "\\end{pmatrix}\n",
    "=\n",
    "\\begin{pmatrix}\n",
    "\\lambda w_{11} & \\lambda w_{12} \\\\\n",
    "\\lambda w_{21} & \\lambda w_{22}\n",
    "\\end{pmatrix}\n",
    "= \\lambda W_k\n",
    "$$\n",
    "$$\n",
    "{\\partial L \\over \\partial W_k} = {\\partial L_c \\over \\partial W_k} + {\\partial L_p \\over \\partial W_k}\n",
    "= {\\partial L_c \\over \\partial W_k} +  \\lambda W_k\n",
    "$$\n",
    "$L^2$-페널티는 편향을 변수로 포함하지 않기 때문에 $b_k$로 미분하면 0입니다.\n",
    "$$\n",
    "{\\partial L \\over \\partial b_k} = {\\partial L_c \\over \\partial b_k} + {\\partial L_p \\over \\partial b_k} = {\\partial L_c \\over \\partial b_k}\n",
    "$$"
   ]
  },
  {
   "attachments": {
    "image.png": {
     "image/png": "[encoded data removed]"
    }
   },
   "cell_type": "markdown",
   "id": "58b191e1",
   "metadata": {},
   "source": [
    "**5. (i)  다음은 Drop Out 층의 순전파와 역전파를 구현하는 코드이다.\n",
    "![image.png](attachment:image.png)\n",
    "입력 데이터와 생성된 random 행렬이 각각\n",
    "$$\n",
    "\\begin{pmatrix} 1&2&3 \\\\ 4&5&6 \\\\ 7&8&9 \\end{pmatrix}, \\qquad\n",
    "\\begin{pmatrix} 0.4&0.1&0.5 \\\\ 0.5&0.5&0.6 \\\\ 0.2&0.1&0.9 \\end{pmatrix}\n",
    "$$\n",
    "이고 dropout ratio는 0.3이라 하자. 훈련할 때와 테스트할 때 출력값이 각각 어떻게 되겠는가?**"
   ]
  },
  {
   "cell_type": "markdown",
   "id": "b24b83ef",
   "metadata": {},
   "source": [
    "**훈련할때 출력값:**\n",
    "$$\n",
    "\\begin{pmatrix} 0.4&0.1&0.5 \\\\ 0.5&0.5&0.6 \\\\ 0.2&0.1&0.9 \\end{pmatrix} > 0.3\n",
    "$$\n",
    "에서 0.3을 넘는 값은 True, 넘지 않는 값은 False로 바뀐다.\n",
    "$$\n",
    "\\begin{pmatrix} T&F&T \\\\ T&T&T \\\\ F&F&T \\end{pmatrix}\n",
    "$$\n",
    "Hadamard prodcut를 할때 True는 1로 False는 0으로 바꿔서 계산한다.\n",
    "$$\n",
    "\\begin{pmatrix} 1&2&3 \\\\ 4&5&6 \\\\ 7&8&9 \\end{pmatrix}\n",
    "\\odot\n",
    "\\begin{pmatrix} T&F&T \\\\ T&T&T \\\\ F&F&T \\end{pmatrix}\n",
    "=\n",
    "\\begin{pmatrix} 1&2&3 \\\\ 4&5&6 \\\\ 7&8&9 \\end{pmatrix}\n",
    "\\odot\n",
    "\\begin{pmatrix} 1&0&1 \\\\ 1&1&1 \\\\ 0&0&1 \\end{pmatrix}\n",
    "=\n",
    "\\begin{pmatrix} 1&0&3 \\\\ 4&5&6 \\\\ 0&0&9 \\end{pmatrix}\n",
    "$$"
   ]
  },
  {
   "cell_type": "markdown",
   "id": "7954de83",
   "metadata": {},
   "source": [
    "**테스트할때 출력값:**  \n",
    "입력 신호 일부를 완전히 죽이지 않고 전체 신호를 70프로 다운 시킨다.\n",
    "$$\n",
    "0.7 \\times \\begin{pmatrix} 1&2&3 \\\\ 4&5&6 \\\\ 7&8&9 \\end{pmatrix}\n",
    "=\n",
    "\\begin{pmatrix} 0.7&1.4&2.1 \\\\ 2.8&3.5&4.2 \\\\ 4.9&5.6&6.3 \\end{pmatrix}\n",
    "$$"
   ]
  },
  {
   "cell_type": "markdown",
   "id": "4b65a3a8",
   "metadata": {},
   "source": [
    "**(ii) 코드로 검산하시오.**"
   ]
  },
  {
   "cell_type": "code",
   "execution_count": 6,
   "id": "c24c84fb",
   "metadata": {},
   "outputs": [
    {
     "name": "stdout",
     "output_type": "stream",
     "text": [
      "[[ True False  True]\n",
      " [ True  True  True]\n",
      " [False False  True]] \n",
      "==============\n",
      " [[1 0 3]\n",
      " [4 5 6]\n",
      " [0 0 9]] \n",
      "==============\n",
      " [[0.7 1.4 2.1]\n",
      " [2.8 3.5 4.2]\n",
      " [4.9 5.6 6.3]]\n"
     ]
    }
   ],
   "source": [
    "x = np.array([[1,2,3],[4,5,6],[7,8,9]])\n",
    "\n",
    "mask = (np.array([[0.4,0.1,0.5],[0.5,0.5,0.6],[0.2,0.1,0.9]]) > 0.3)\n",
    "print(mask, \"\\n==============\\n\", x*mask, \"\\n==============\\n\",x*(1-0.3))"
   ]
  },
  {
   "cell_type": "markdown",
   "id": "d19e74f2",
   "metadata": {},
   "source": [
    "**6. (i) Drop Out 층으로 흘러들어온 미분과 생성된 random 행렬이 각각\n",
    "$$\n",
    "\\begin{pmatrix} 1&1&1 \\\\ 2&2&2 \\\\ 3&3&3 \\end{pmatrix}, \\qquad\n",
    "\\begin{pmatrix} 0.2&0.1&0.5 \\\\ 0.5&0.3&0.9 \\\\ 0.2&0.5&0.9 \\end{pmatrix}\n",
    "$$\n",
    "이고 dropout ratio는 0.4라 하자. Drop Out층이 아래로 흘려 보내는 미분을 구하시오.**"
   ]
  },
  {
   "cell_type": "markdown",
   "id": "8d12724f",
   "metadata": {},
   "source": [
    "$$\n",
    "\\begin{pmatrix} 0.2&0.1&0.5 \\\\ 0.5&0.3&0.9 \\\\ 0.2&0.5&0.9 \\end{pmatrix} > 0.4\n",
    "$$\n",
    "에서 0.3을 넘는 값은 True, 넘지 않는 값은 False로 바뀐다.\n",
    "$$\n",
    "\\begin{pmatrix} F&F&T \\\\ T&F&T \\\\ F&T&T \\end{pmatrix}\n",
    "$$\n",
    "Hadamard prodcut를 할때 True는 1로 False는 0으로 바꿔서 계산한다.\n",
    "$$\n",
    "\\begin{pmatrix} 1&1&1 \\\\ 2&2&2 \\\\ 3&3&3 \\end{pmatrix}\n",
    "\\odot\n",
    "\\begin{pmatrix} F&F&T \\\\ T&F&T \\\\ F&T&T \\end{pmatrix}\n",
    "=\n",
    "\\begin{pmatrix} 1&1&1 \\\\ 2&2&2 \\\\ 3&3&3 \\end{pmatrix}\n",
    "\\odot\n",
    "\\begin{pmatrix} 0&0&1 \\\\ 1&0&1 \\\\ 0&1&1 \\end{pmatrix}\n",
    "=\n",
    "\\begin{pmatrix} 0&0&1 \\\\ 2&0&2 \\\\ 0&3&3 \\end{pmatrix}\n",
    "$$"
   ]
  },
  {
   "cell_type": "markdown",
   "id": "05eeac34",
   "metadata": {},
   "source": [
    "**(ii) 코드로 검산하시오.**"
   ]
  },
  {
   "cell_type": "code",
   "execution_count": 7,
   "id": "e4e03629",
   "metadata": {},
   "outputs": [
    {
     "name": "stdout",
     "output_type": "stream",
     "text": [
      "[[False False  True]\n",
      " [ True False  True]\n",
      " [False  True  True]] \n",
      "==============\n",
      " [[0 0 1]\n",
      " [2 0 2]\n",
      " [0 3 3]]\n"
     ]
    }
   ],
   "source": [
    "dout = np.array([[1,1,1],[2,2,2],[3,3,3]])\n",
    "\n",
    "mask = (np.array([[0.2,0.1,0.5],[0.5,0.3,0.9],[0.2,0.5,0.9]]) > 0.4)\n",
    "print(mask, \"\\n==============\\n\", dout*mask)"
   ]
  },
  {
   "attachments": {
    "image.png": {
     "image/png": "[encoded data removed]"
    }
   },
   "cell_type": "markdown",
   "id": "780dbedc",
   "metadata": {},
   "source": [
    "**7. 다음 코드를 실행했을 때 출력될 값들을 대략적으로 쓰시오.**\n",
    "![image.png](attachment:image.png)"
   ]
  },
  {
   "cell_type": "markdown",
   "id": "5d62b519",
   "metadata": {},
   "source": [
    "비율 0.3으로 dropout층을 만듭니다.  \n",
    "균등분포를 따라 0과 1사이의 숫자 10,000개를 선택해서 100$\\times$100행렬 ${\\bf x}$를 만듭니다.  \n",
    "${\\bf x}$가 dropout층에 입력될 데이터 배치 묶음입니다.  \n",
    "먼저 dropout층을 훈련용으로 설정하고 순전파를 진행합니다.  \n",
    "dropout층은 입력신호를 랜덤하게 30프로 죽입니다.  \n",
    "`np.abs(y)<1e-7`은 수식으로 쓰면 $|y|<10^{-7}$입니다.  \n",
    "`np.sum(np.abs(y)<1e-7)`은 dropout층이 죽인 신호의 개수이고 `np.size(y)`는 전체 신호의 개수입니다.  \n",
    "따라서, dropout층이 죽인 신호의 비율인 $0.3$이 출력됩니다.  \n",
    "입력신호는 0과 1사이에서 랜덤하게 선택되었으므로 평균은 $0.5$입니다.  \n",
    "랜덤하게 30프로가 죽었기 때문에 출력신호의 평균은 $0.5 \\times 0.7=0.35$입니다.  \n",
    "다음은 dropout층을 테스트용으로 설정하고 순전파를 진행합니다.  \n",
    "테스트할때 dropout층은 입력신호의 전체세기를 줄일뿐 특정 신호를 죽이지는 않습니다.  \n",
    "따라서, dropout층이 죽인 신호의 비율인 $0$이 출력됩니다.  \n",
    "입력신호의 평균이 $0.5$인데 전체 세기를 줄였기 때문에 출력신호의 평균은 $0.5 \\times 0.7=0.35$입니다."
   ]
  },
  {
   "cell_type": "code",
   "execution_count": 8,
   "id": "e005e7da",
   "metadata": {},
   "outputs": [
    {
     "name": "stdout",
     "output_type": "stream",
     "text": [
      "0.2986\n",
      "0.3530639290052819\n",
      "0.0\n",
      "0.3515642287062075\n"
     ]
    }
   ],
   "source": [
    "from common.layers import Dropout\n",
    "\n",
    "dropout = Dropout(0.3)\n",
    "x = np.random.rand(100,100)\n",
    "\n",
    "y = dropout.forward(x, train_flg=True)\n",
    "print(np.sum(np.abs(y)<1e-7) / np.size(y))\n",
    "print(np.mean(y))\n",
    "\n",
    "z = dropout.forward(x, train_flg=False)\n",
    "print(np.sum(np.abs(z)<1e-7) / np.size(z))\n",
    "print(np.mean(z))"
   ]
  }
 ],
 "metadata": {
  "kernelspec": {
   "display_name": "Python 3 (ipykernel)",
   "language": "python",
   "name": "python3"
  },
  "language_info": {
   "codemirror_mode": {
    "name": "ipython",
    "version": 3
   },
   "file_extension": ".py",
   "mimetype": "text/x-python",
   "name": "python",
   "nbconvert_exporter": "python",
   "pygments_lexer": "ipython3",
   "version": "3.9.12"
  }
 },
 "nbformat": 4,
 "nbformat_minor": 5
}
