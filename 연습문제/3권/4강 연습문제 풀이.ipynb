{
 "cells": [
  {
   "attachments": {
    "image.png": {
     "image/png": "[encoded data removed]"
    }
   },
   "cell_type": "markdown",
   "metadata": {},
   "source": [
    "**1. Embedding층의 가중치 행렬 $W_{\\rm in}$, 입력되는 단어 id의 배치 묶음 $X$, 은닉층에서 흘러들어오는 미분 $\\partial L \\over \\partial h$이 각각\n",
    "$$\n",
    "W_{\\rm in}=\\begin{pmatrix} 1&2&3 \\\\ 4&5&6 \\\\ 7&8&9 \\\\ 10&11&12 \\end{pmatrix}, \\qquad X=[2,0,3,0], \\qquad {\\partial L \\over \\partial h} = \\begin{pmatrix} 0&1&1 \\\\ 1&0&1 \\\\ 1&1&0 \\\\ 1&1&1 \\end{pmatrix}\n",
    "$$\n",
    "이다.**\n",
    "![image.png](attachment:image.png)"
   ]
  },
  {
   "cell_type": "markdown",
   "metadata": {},
   "source": [
    "**(i) Emedding층 방법으로 출력값 $h$와 가중치 행렬에 대한 미분 $\\partial L \\over \\partial W_{\\rm in}$을 각각 계산하시오.**"
   ]
  },
  {
   "cell_type": "markdown",
   "metadata": {},
   "source": [
    "id 묶음이 순전파는 뽑아내는 행의 위치를, 역전파는 집어넣는 행의 위치를 말해줍니다.  \n",
    "가중치 행렬 $W_{\\rm in}$에서 2행, 0행, 3행, 0행을 뽑아내서 차례대로 행에 넣어 출력값\n",
    "$$\n",
    "h =\n",
    "\\begin{pmatrix}\n",
    "7&8&9\\\\\n",
    "1&2&3\\\\\n",
    "10&11&12\\\\\n",
    "1&2&3\n",
    "\\end{pmatrix}\n",
    "$$\n",
    "을 얻습니다.  \n",
    "흘러들어오는 미분 $\\partial L \\over \\partial h$에서 차례대로 행을 뽑아 2행, 0행, 3행, 0행에 넣어\n",
    "$$\n",
    "{\\partial L \\over \\partial W_{\\rm in}}\n",
    "=\n",
    "\\begin{pmatrix}\n",
    "2&1&2\\\\\n",
    "0&0&0\\\\\n",
    "0&1&1\\\\\n",
    "1&1&0\n",
    "\\end{pmatrix}\n",
    "$$\n",
    "을 얻습니다.  \n",
    "주의할 점은 $[1,0,1]$과 $[1,1,1]$은 0행에 중복해서 들어가게 되는데 더해서 $[2,1,2]$가 되고 아무것도 들어가지 않는 1행은 $[0,0,0]$이 된다는 점입니다."
   ]
  },
  {
   "cell_type": "markdown",
   "metadata": {},
   "source": [
    "**(ii) 행렬곱층 계산 그래프로  검산하시오.**"
   ]
  },
  {
   "attachments": {
    "image.png": {
     "image/png": "[encoded data removed]"
    }
   },
   "cell_type": "markdown",
   "metadata": {},
   "source": [
    "![image.png](attachment:image.png)\n",
    "\n",
    "순전파는\n",
    "$$\n",
    "h = X W_{\\rm in} =\n",
    "\\begin{pmatrix} 0&0&1&0 \\\\ 1&0&0&0 \\\\ 0&0&0&1 \\\\ 1&0&0&0 \\end{pmatrix}\n",
    "\\begin{pmatrix} 1&2&3 \\\\ 4&5&6 \\\\ 7&8&9 \\\\ 10&11&12 \\end{pmatrix}\n",
    "=\n",
    "\\begin{pmatrix}\n",
    "7&8&9\\\\\n",
    "1&2&3\\\\\n",
    "10&11&12\\\\\n",
    "1&2&3\n",
    "\\end{pmatrix}\n",
    "$$\n",
    "이고 역전파는\n",
    "$$\n",
    "{\\partial L \\over \\partial W_{\\rm in}} =\n",
    "X^T {\\partial L \\over \\partial h} =\n",
    "\\begin{pmatrix} 0&1&0&1 \\\\ 0&0&0&0 \\\\ 1&0&0&0 \\\\ 0&0&1&0 \\end{pmatrix}\n",
    "\\begin{pmatrix} 0&1&1 \\\\ 1&0&1 \\\\ 1&1&0 \\\\ 1&1&1 \\end{pmatrix}\n",
    "=\n",
    "\\begin{pmatrix}\n",
    "2&1&2\\\\\n",
    "0&0&0\\\\\n",
    "0&1&1\\\\\n",
    "1&1&0\n",
    "\\end{pmatrix}\n",
    "$$\n",
    "입니다.  \n",
    "위의 Embedding층 계산결과와 동일한 결과가 나왔네요."
   ]
  },
  {
   "cell_type": "markdown",
   "metadata": {},
   "source": [
    "**(iii) layers.py안의 Embedding 클래스로 인스턴스를 만들어서 검산하시오.**"
   ]
  },
  {
   "cell_type": "code",
   "execution_count": 1,
   "metadata": {},
   "outputs": [
    {
     "name": "stdout",
     "output_type": "stream",
     "text": [
      "[[ 7  8  9]\n",
      " [ 1  2  3]\n",
      " [10 11 12]\n",
      " [ 1  2  3]]\n",
      "[[2 1 2]\n",
      " [0 0 0]\n",
      " [0 1 1]\n",
      " [1 1 0]]\n"
     ]
    }
   ],
   "source": [
    "import sys\n",
    "sys.path.append('C://Users//HAN//Documents//Deep Learning from Scratch 2') # 각자의 경로로 수정해주세요.\n",
    "import numpy as np\n",
    "from common.layers import Embedding\n",
    "\n",
    "W_in = np.arange(1,13).reshape(4,3)\n",
    "idx = np.array([2,0,3,0])\n",
    "dh = np.array([[0,1,1],[1,0,1],[1,1,0],[1,1,1]])\n",
    "\n",
    "Emb = Embedding(W_in)\n",
    "print(Emb.forward(idx))\n",
    "\n",
    "Emb.backward(dh)\n",
    "print(Emb.grads[0])"
   ]
  },
  {
   "attachments": {
    "image.png": {
     "image/png": "[encoded data removed]"
    }
   },
   "cell_type": "markdown",
   "metadata": {},
   "source": [
    "**2. Embedding dot층의 가중치 행렬 $W_{\\rm out}$, 입력되는 은닉 벡터의 배치 묶음 $h$, 위에서 흘러들어오는 미분 $\\partial L \\over \\partial s$, 타겟 단어 id의 배치 묶음 $t$가 각각\n",
    "$$\n",
    "W_{\\rm out}=\\begin{pmatrix} 1&2&3&4 \\\\ 5&6&7&8 \\\\ 9&10&11&12 \\end{pmatrix}, \\qquad h=\\begin{pmatrix} 0&-1&1 \\\\-1&0&1\\\\-1&-1&1 \\end{pmatrix}, \\qquad {\\partial L \\over \\partial s} = [1,2,3], \\qquad t=[2,0,0]\n",
    "$$\n",
    "이다.**\n",
    "![image.png](attachment:image.png)"
   ]
  },
  {
   "cell_type": "markdown",
   "metadata": {},
   "source": [
    "**(i) 출력되는 스코어 $s$를 구하시오. (PPT 7 페이지)**"
   ]
  },
  {
   "cell_type": "markdown",
   "metadata": {},
   "source": [
    "라벨이 $[2,0,0]$이므로 은닉벡터들과 가중치 행렬의 2열, 0열, 0열을 차례로 내적하면\n",
    "$$\n",
    "[0,-1,1]\\circ[3,7,11]=4, \\qquad [-1,0,1]\\circ[1,5,9]=8, \\qquad [-1,-1,1]\\circ [1,5,9]=3\n",
    "$$\n",
    "을 얻습니다.  \n",
    "모으면 스코어는\n",
    "$$\n",
    "s=[4,8,3]\n",
    "$$\n",
    "이네요."
   ]
  },
  {
   "cell_type": "markdown",
   "metadata": {},
   "source": [
    "**(ii) $W_{\\rm out}$을 transpose하고 Embedding층을 거쳐 $W$를 구하시오. (PPT 8페이지)**"
   ]
  },
  {
   "cell_type": "markdown",
   "metadata": {},
   "source": [
    "Embedding dot층에서는 가중치 행렬에서 열을 뽑아 내는 반면에 Embedding 클래스는 행을 뽑아냅니다.  \n",
    "Embedding 클래스를 사용하기 위해서는 $W_{\\rm out}$을 transpose해야 합니다.  \n",
    "$W_{\\rm out}^{\\rm T}$에서 행을 뽑아내는 작업이 $W_{\\rm out}$ 입장에서는 열을 뽑아내는 작업이기 때문이지요.  \n",
    "가중치 행렬을 transpose하면\n",
    "$$\n",
    "W_{\\rm out}^T=\n",
    "\\begin{pmatrix}\n",
    "1&5&9\\\\\n",
    "2&6&10\\\\\n",
    "3&7&11\\\\\n",
    "4&8&12\n",
    "\\end{pmatrix}\n",
    "$$\n",
    "입니다.  \n",
    "Embedding층에서는 라벨이 $[2,0,0]$이므로 2행, 0행, 0행을 뽑아서 새로운 행렬\n",
    "$$\n",
    "W =\n",
    "\\begin{pmatrix}\n",
    "3&7&11\\\\\n",
    "1&5&9\\\\\n",
    "1&5&9\n",
    "\\end{pmatrix}\n",
    "$$\n",
    "을 만듭니다."
   ]
  },
  {
   "cell_type": "markdown",
   "metadata": {},
   "source": [
    "**(iii) 계산 그래프를 통해\n",
    "$$\n",
    "s, \\quad {\\partial L \\over \\partial h},\\quad {\\partial L \\over \\partial W}\n",
    "$$\n",
    "을 구하시오. (PPT 8, 9페이지)**"
   ]
  },
  {
   "attachments": {
    "image.png": {
     "image/png": "[encoded data removed]"
    }
   },
   "cell_type": "markdown",
   "metadata": {},
   "source": [
    "Embedding dot층의 계산 그래프는 다음과 같습니다.  \n",
    "${\\partial L \\over \\partial s}$은 열벡터입니다.  \n",
    "$*$는 스칼라 곱이고 $\\circ$는 내적인데 흘러들어온 배치묶음에 대해 행별로 독립적으로 연산합니다.\n",
    "![image.png](attachment:image.png)\n",
    "\n",
    "순전파는\n",
    "$$\n",
    "s = h\\circ W =\n",
    "\\begin{pmatrix} 0&-1&1 \\\\-1&0&1\\\\-1&-1&1 \\end{pmatrix}\n",
    "\\circ\n",
    "\\begin{pmatrix}\n",
    "3&7&11\\\\\n",
    "1&5&9\\\\\n",
    "1&5&9\n",
    "\\end{pmatrix}\n",
    "=\n",
    "\\begin{pmatrix}\n",
    "[0,-1,1]\\circ[3,7,11]\\\\\n",
    "[-1,0,1]\\circ[1,5,9]\\\\\n",
    "[-1,-1,1]\\circ[1,5,9]\n",
    "\\end{pmatrix}\n",
    "=\n",
    "\\begin{pmatrix}\n",
    "4\\\\\n",
    "8\\\\\n",
    "3\n",
    "\\end{pmatrix}\n",
    "$$\n",
    "이고 역전파는\n",
    "$$\n",
    "{\\partial L \\over \\partial h}={\\partial L \\over \\partial s}*W=\n",
    "\\begin{pmatrix}1\\\\2\\\\3\\end{pmatrix}\n",
    "*\n",
    "\\begin{pmatrix}\n",
    "3&7&11\\\\\n",
    "1&5&9\\\\\n",
    "1&5&9\n",
    "\\end{pmatrix}\n",
    "=\n",
    "\\begin{pmatrix}\n",
    "1*[3,7,11]\\\\\n",
    "2*[1,5,9]\\\\\n",
    "3*[1,5,9]\n",
    "\\end{pmatrix}\n",
    "=\n",
    "\\begin{pmatrix}\n",
    "3&7&11\\\\\n",
    "2&10&18\\\\\n",
    "3&15&27\n",
    "\\end{pmatrix},\n",
    "$$\n",
    "와\n",
    "$$\n",
    "{\\partial L \\over \\partial W}={\\partial L \\over \\partial s}*h=\n",
    "\\begin{pmatrix}1\\\\2\\\\3\\end{pmatrix}\n",
    "*\n",
    "\\begin{pmatrix} 0&-1&1 \\\\-1&0&1\\\\-1&-1&1 \\end{pmatrix}\n",
    "=\n",
    "\\begin{pmatrix}\n",
    "1*[0,-1,1]\\\\\n",
    "2*[-1,0,1]\\\\\n",
    "3*[-1,-1,1]\n",
    "\\end{pmatrix}\n",
    "=\n",
    "\\begin{pmatrix} 0&-1&1 \\\\-2&0&2\\\\-3&-3&3 \\end{pmatrix}\n",
    "$$\n",
    "입니다."
   ]
  },
  {
   "cell_type": "markdown",
   "metadata": {},
   "source": [
    "**(iv) $\\partial L \\over \\partial W$을 embedding층 역전파를 한후 transpose를 해서 $\\partial L \\over \\partial W_{\\rm out}$을 구하시오.**"
   ]
  },
  {
   "cell_type": "markdown",
   "metadata": {},
   "source": [
    "앞에서 $W$에 transpose를 한 후 embedding층을 통과시켜 $W_{\\rm out}$을 얻었습니다.  \n",
    "따라서, 역전파는 거꾸로 embedding층의 역전파를 먼저 하고 transpose의 역전파를 해야 합니다.  \n",
    "그런데 transpose는 재배열이기 때문에 역전파는 역재별인데 transpose의 역재배열은 transpose입니다.  \n",
    "다시말해, tranpose의 역전파는 transpose입니다.\n",
    "\n",
    "흘러들어오는 미분 $\\partial L \\over \\partial W$에서 차례대로 행을 뽑아 2행, 0행, 0행에 넣어\n",
    "$$\n",
    "{\\partial L \\over \\partial W_{\\rm in}}\n",
    "=\n",
    "\\begin{pmatrix}\n",
    "-5&-3&5\\\\\n",
    "0&0&0\\\\\n",
    "0&-1&1\\\\\n",
    "0&0&0\n",
    "\\end{pmatrix}\n",
    "$$\n",
    "을 얻습니다.  \n",
    "여기서 주의할 점은 $[-2,0,2]$와 $[-3,-3,3]$은 0행에 중복해서 들어가게 되는데 더해서 $[-5,-3,5]$가 되고 아무것도 안들어 오는 1행과 3행은 $[0,0,0]$이 된다는 점입니다.\n",
    "\n",
    "transpose를 하면\n",
    "$$\n",
    "\\begin{pmatrix}\n",
    "-5&0&0&0\\\\\n",
    "-3&0&-1&0\\\\\n",
    "5&0&1&0\n",
    "\\end{pmatrix}\n",
    "$$\n",
    "을 얻습니다."
   ]
  },
  {
   "cell_type": "markdown",
   "metadata": {},
   "source": [
    "**(v) negative_sampling_layer.py안의 EmbeddingDot 클래스로 인스턴스를 만들어서 검산하시오.**"
   ]
  },
  {
   "cell_type": "code",
   "execution_count": 2,
   "metadata": {},
   "outputs": [
    {
     "name": "stdout",
     "output_type": "stream",
     "text": [
      "[4 8 3]\n",
      "[[ 3  7 11]\n",
      " [ 2 10 18]\n",
      " [ 3 15 27]]\n",
      "[[-5 -3  5]\n",
      " [ 0  0  0]\n",
      " [ 0 -1  1]\n",
      " [ 0  0  0]]\n"
     ]
    }
   ],
   "source": [
    "from ch04.negative_sampling_layer import EmbeddingDot\n",
    "\n",
    "W_out = np.arange(1,13).reshape(3,4)\n",
    "h = np.array([[0,-1,1],[-1,0,1],[-1,-1,1]])\n",
    "ds = np.array([1,2,3])\n",
    "t = np.array([2,0,0])\n",
    "\n",
    "ED = EmbeddingDot(W_out.T)\n",
    "\n",
    "print(ED.forward(h,t))\n",
    "print(ED.backward(ds))\n",
    "print(ED.grads[0])"
   ]
  },
  {
   "cell_type": "markdown",
   "metadata": {},
   "source": [
    "**3. 행렬곱층과 Embedding층의 속도가 몇배 차이가 나는지 다음과 같은 코드를 작성하여 확인하시오.**\n",
    "\n",
    "**- 말뭉치는 PTB 데이터셋 사용**\n",
    "\n",
    "**- 행은 PTB 데이터셋의 어휘수, 열은 100개인 가중치 행렬을 표준정규분포를 따라 랜덤하게 생성**\n",
    "\n",
    "**- MatMul 클래스와 Embedding 클래스로 인스턴스 생성**\n",
    "\n",
    "**- time 라이브러리를 사용하여 앞 100,000개 단어의 묶음에 대하여 두 인스턴스의 순전파 속도 산출**"
   ]
  },
  {
   "cell_type": "code",
   "execution_count": 3,
   "metadata": {},
   "outputs": [
    {
     "name": "stdout",
     "output_type": "stream",
     "text": [
      "행렬곱층 : 5.881346702575684\n",
      "임베딩층 : 0.04687976837158203\n"
     ]
    }
   ],
   "source": [
    "import time\n",
    "from common.util import convert_one_hot\n",
    "from common.layers import MatMul, Embedding\n",
    "from dataset import ptb\n",
    "\n",
    "hidden_size = 100\n",
    "\n",
    "corpus, word_to_id, id_to_word = ptb.load_data('train')\n",
    "vocab_size = len(word_to_id)\n",
    "\n",
    "corpus=corpus[:100000]\n",
    "\n",
    "corpus_one_hot=convert_one_hot(corpus,vocab_size)\n",
    "\n",
    "W=np.random.randn(vocab_size,hidden_size)\n",
    "matmul=MatMul(W)\n",
    "embedding=Embedding(W)\n",
    "\n",
    "start = time.time()\n",
    "matmul.forward(corpus_one_hot)\n",
    "print('행렬곱층 : ' + str(time.time() - start))\n",
    "\n",
    "start = time.time()\n",
    "embedding.forward(corpus)\n",
    "print('임베딩층 : ' + str(time.time() - start))"
   ]
  }
 ],
 "metadata": {
  "kernelspec": {
   "display_name": "Python 3 (ipykernel)",
   "language": "python",
   "name": "python3"
  },
  "language_info": {
   "codemirror_mode": {
    "name": "ipython",
    "version": 3
   },
   "file_extension": ".py",
   "mimetype": "text/x-python",
   "name": "python",
   "nbconvert_exporter": "python",
   "pygments_lexer": "ipython3",
   "version": "3.9.12"
  }
 },
 "nbformat": 4,
 "nbformat_minor": 4
}
