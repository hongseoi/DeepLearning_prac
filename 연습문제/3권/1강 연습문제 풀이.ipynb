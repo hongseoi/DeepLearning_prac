{
 "cells": [
  {
   "cell_type": "markdown",
   "metadata": {},
   "source": [
    "**1. 다음은 전처리  코드이다. 출력될 6개를 순서대로  쓰시오.**"
   ]
  },
  {
   "cell_type": "markdown",
   "metadata": {},
   "source": [
    "앞의 The와 뒤의 the는 동일하게 취급해야 하므로 대문자 T를 소문자 t로 바꿔줍니다."
   ]
  },
  {
   "cell_type": "code",
   "execution_count": 1,
   "metadata": {},
   "outputs": [
    {
     "name": "stdout",
     "output_type": "stream",
     "text": [
      "the sky is very blue and the sky is very beautiful today.\n"
     ]
    }
   ],
   "source": [
    "import numpy as np\n",
    "\n",
    "text = 'The sky is very blue and the sky is very beautiful today.'\n",
    "text = text.lower()\n",
    "print(text)"
   ]
  },
  {
   "cell_type": "markdown",
   "metadata": {},
   "source": [
    "마침표도 하나의 단어로 취급하려고 합니다.  \n",
    "분리를 위해 마침표 앞에 빈칸을 삽입합니다."
   ]
  },
  {
   "cell_type": "code",
   "execution_count": 2,
   "metadata": {},
   "outputs": [
    {
     "name": "stdout",
     "output_type": "stream",
     "text": [
      "the sky is very blue and the sky is very beautiful today .\n"
     ]
    }
   ],
   "source": [
    "text = text.replace('.', ' .')\n",
    "print(text)"
   ]
  },
  {
   "cell_type": "markdown",
   "metadata": {},
   "source": [
    "빈칸을 기준으로 분리해서 리스트를 만듭니다."
   ]
  },
  {
   "cell_type": "code",
   "execution_count": 3,
   "metadata": {},
   "outputs": [
    {
     "name": "stdout",
     "output_type": "stream",
     "text": [
      "['the', 'sky', 'is', 'very', 'blue', 'and', 'the', 'sky', 'is', 'very', 'beautiful', 'today', '.']\n"
     ]
    }
   ],
   "source": [
    "words = text.split(' ')\n",
    "print(words)"
   ]
  },
  {
   "cell_type": "markdown",
   "metadata": {},
   "source": [
    "인공지능이 이해할수 있는 언어는 숫자 뿐입니다.  \n",
    "등장 순서로 단어에 인덱스를 부여해서 사전을 만듭니다."
   ]
  },
  {
   "cell_type": "code",
   "execution_count": 4,
   "metadata": {},
   "outputs": [
    {
     "name": "stdout",
     "output_type": "stream",
     "text": [
      "{'the': 0, 'sky': 1, 'is': 2, 'very': 3, 'blue': 4, 'and': 5, 'beautiful': 6, 'today': 7, '.': 8}\n",
      "{0: 'the', 1: 'sky', 2: 'is', 3: 'very', 4: 'blue', 5: 'and', 6: 'beautiful', 7: 'today', 8: '.'}\n"
     ]
    }
   ],
   "source": [
    "word_to_id = {}\n",
    "id_to_word = {}\n",
    "\n",
    "for word in words:\n",
    "    if word not in word_to_id:\n",
    "        new_id = len(word_to_id)\n",
    "        word_to_id[word] = new_id\n",
    "        id_to_word[new_id] = word\n",
    "\n",
    "print(word_to_id)\n",
    "print(id_to_word)"
   ]
  },
  {
   "cell_type": "markdown",
   "metadata": {},
   "source": [
    "위에서 만든 사전을 이용해서 말뭉치를 번역합니다."
   ]
  },
  {
   "cell_type": "code",
   "execution_count": 5,
   "metadata": {},
   "outputs": [
    {
     "name": "stdout",
     "output_type": "stream",
     "text": [
      "[0 1 2 3 4 5 0 1 2 3 6 7 8]\n"
     ]
    }
   ],
   "source": [
    "corpus = np.array([word_to_id[w] for w in words])\n",
    "print(corpus)"
   ]
  },
  {
   "cell_type": "markdown",
   "metadata": {},
   "source": [
    "**2.(i) 어휘들의 희소 표현(sparse representation)을 통해 말뭉치(corpus)를 행렬로 표현하시오.**\n",
    "\n",
    "**(ii) 코드를 작성하여 출력하시오.**"
   ]
  },
  {
   "cell_type": "code",
   "execution_count": 6,
   "metadata": {},
   "outputs": [
    {
     "name": "stdout",
     "output_type": "stream",
     "text": [
      "[[1. 0. 0. 0. 0. 0. 0. 0. 0.]\n",
      " [0. 1. 0. 0. 0. 0. 0. 0. 0.]\n",
      " [0. 0. 1. 0. 0. 0. 0. 0. 0.]\n",
      " [0. 0. 0. 1. 0. 0. 0. 0. 0.]\n",
      " [0. 0. 0. 0. 1. 0. 0. 0. 0.]\n",
      " [0. 0. 0. 0. 0. 1. 0. 0. 0.]\n",
      " [1. 0. 0. 0. 0. 0. 0. 0. 0.]\n",
      " [0. 1. 0. 0. 0. 0. 0. 0. 0.]\n",
      " [0. 0. 1. 0. 0. 0. 0. 0. 0.]\n",
      " [0. 0. 0. 1. 0. 0. 0. 0. 0.]\n",
      " [0. 0. 0. 0. 0. 0. 1. 0. 0.]\n",
      " [0. 0. 0. 0. 0. 0. 0. 1. 0.]\n",
      " [0. 0. 0. 0. 0. 0. 0. 0. 1.]]\n"
     ]
    }
   ],
   "source": [
    "sparse = np.zeros((len(corpus),len(word_to_id)))\n",
    "sparse[np.arange(len(corpus)),corpus] = 1\n",
    "print(sparse)"
   ]
  },
  {
   "cell_type": "markdown",
   "metadata": {},
   "source": [
    "**3.(i) 윈도우 크기를 1로 잡았을 때 말뭉치(corpus)의 동시발생 행렬(co-occurrence matrix)을 구하시오.**\n",
    "\n",
    "**(ii) 윈도우 크기를 2로 잡았을 때 말뭉치(corpus)의 동시발생 행렬(co-occurrence matrix)을 구하시오.**\n",
    "\n",
    "**(iii) `create_co_matrix` 함수를 이용하여 확인하시오.**"
   ]
  },
  {
   "cell_type": "code",
   "execution_count": 7,
   "metadata": {},
   "outputs": [
    {
     "name": "stdout",
     "output_type": "stream",
     "text": [
      "[[0 2 0 0 0 1 0 0 0]\n",
      " [2 0 2 0 0 0 0 0 0]\n",
      " [0 2 0 2 0 0 0 0 0]\n",
      " [0 0 2 0 1 0 1 0 0]\n",
      " [0 0 0 1 0 1 0 0 0]\n",
      " [1 0 0 0 1 0 0 0 0]\n",
      " [0 0 0 1 0 0 0 1 0]\n",
      " [0 0 0 0 0 0 1 0 1]\n",
      " [0 0 0 0 0 0 0 1 0]]\n",
      "==============================\n",
      "[[0 2 2 0 1 1 0 0 0]\n",
      " [2 0 2 2 0 1 0 0 0]\n",
      " [2 2 0 2 1 0 1 0 0]\n",
      " [0 2 2 0 1 1 1 1 0]\n",
      " [1 0 1 1 0 1 0 0 0]\n",
      " [1 1 0 1 1 0 0 0 0]\n",
      " [0 0 1 1 0 0 0 1 1]\n",
      " [0 0 0 1 0 0 1 0 1]\n",
      " [0 0 0 0 0 0 1 1 0]]\n"
     ]
    }
   ],
   "source": [
    "import sys\n",
    "sys.path.append('C://Users//HAN//Documents//Deep Learning from Scratch 2') # 각자의 경로로 수정해주세요.\n",
    "from common.util import create_co_matrix\n",
    "\n",
    "vocab_size = len(word_to_id)\n",
    "co_matrix_1 = create_co_matrix(corpus, vocab_size)\n",
    "print(co_matrix_1)\n",
    "print('='*30)\n",
    "co_matrix_2 = create_co_matrix(corpus, vocab_size,2)\n",
    "print(co_matrix_2)"
   ]
  },
  {
   "cell_type": "markdown",
   "metadata": {},
   "source": [
    "**4.(i) 위 희소표현과 동시발생 행렬 각각에 대해 blue와 beautiful의 코사인 유사도(cosine similarity) 값을 구하시오.**\n",
    "\n",
    "**(ii) cos_similarity 함수를 이용하여 확인하시오.**"
   ]
  },
  {
   "cell_type": "code",
   "execution_count": 8,
   "metadata": {},
   "outputs": [
    {
     "name": "stdout",
     "output_type": "stream",
     "text": [
      "[0 0 0 1 0 1 0 0 0]\n",
      "[0 0 0 1 0 0 0 1 0]\n"
     ]
    }
   ],
   "source": [
    "blue_1 = co_matrix_1[word_to_id['blue']]\n",
    "print(blue_1)\n",
    "\n",
    "beautiful_1 = co_matrix_1[word_to_id['beautiful']]\n",
    "print(beautiful_1)"
   ]
  },
  {
   "cell_type": "markdown",
   "metadata": {},
   "source": [
    "윈도우 크기가 1일때 blue와 beautiful의 벡터 표현은 각각 $(0,0,0,1,0,1,0,0,0)$, $(0,0,0,1,0,0,0,1,0)$입니다.  \n",
    "코사인 유사도 값은\n",
    "$$\n",
    "{(0,0,0,1,0,1,0,0,0) \\circ (0,0,0,1,0,0,0,1,0) \\over \\|(0,0,0,1,0,1,0,0,0)\\| \\|(0,0,0,1,0,0,0,1,0)\\|} = {1 \\over \\sqrt{2}\\times\\sqrt{2}} = {1 \\over 2}\n",
    "$$\n",
    "입니다."
   ]
  },
  {
   "cell_type": "code",
   "execution_count": 9,
   "metadata": {},
   "outputs": [
    {
     "name": "stdout",
     "output_type": "stream",
     "text": [
      "[1 0 1 1 0 1 0 0 0]\n",
      "[0 0 1 1 0 0 0 1 1]\n"
     ]
    }
   ],
   "source": [
    "blue_2 = co_matrix_2[word_to_id['blue']]\n",
    "print(blue_2)\n",
    "\n",
    "beautiful_2 = co_matrix_2[word_to_id['beautiful']]\n",
    "print(beautiful_2)"
   ]
  },
  {
   "cell_type": "markdown",
   "metadata": {},
   "source": [
    "윈도우 크기가 2일때 blue와 beautiful의 벡터 표현은 각각 $(1,0,1,1,0,1,0,0,0)$, $(0,0,1,1,0,0,0,1,1)$입니다.  \n",
    "코사인 유사도 값은\n",
    "$$\n",
    "{(1,0,1,1,0,1,0,0,0) \\circ (0,0,1,1,0,0,0,1,1) \\over \\|(1,0,1,1,0,1,0,0,0)\\| \\|(0,0,1,1,0,0,0,1,1)\\|} = {2 \\over 2 \\times 2} ={1 \\over 2}\n",
    "$$\n",
    "입니다."
   ]
  },
  {
   "cell_type": "markdown",
   "metadata": {},
   "source": [
    "cos_similarity 함수로 검산해보죠."
   ]
  },
  {
   "cell_type": "code",
   "execution_count": 10,
   "metadata": {},
   "outputs": [
    {
     "name": "stdout",
     "output_type": "stream",
     "text": [
      "0.49999999292893216\n",
      "0.49999999500000003\n"
     ]
    }
   ],
   "source": [
    "from common.util import cos_similarity\n",
    "\n",
    "print(cos_similarity(blue_1, beautiful_1))\n",
    "\n",
    "print(cos_similarity(blue_2, beautiful_2))"
   ]
  }
 ],
 "metadata": {
  "kernelspec": {
   "display_name": "Python 3 (ipykernel)",
   "language": "python",
   "name": "python3"
  },
  "language_info": {
   "codemirror_mode": {
    "name": "ipython",
    "version": 3
   },
   "file_extension": ".py",
   "mimetype": "text/x-python",
   "name": "python",
   "nbconvert_exporter": "python",
   "pygments_lexer": "ipython3",
   "version": "3.9.12"
  }
 },
 "nbformat": 4,
 "nbformat_minor": 4
}
