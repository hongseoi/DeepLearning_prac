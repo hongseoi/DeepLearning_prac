{
 "cells": [
  {
   "cell_type": "markdown",
   "metadata": {},
   "source": [
    "**1. 다음은 SoftmaxWithLoss 클래스를 수정한 코드이다. 출력될 5개의 값을 순서대로 쓰시오.**"
   ]
  },
  {
   "cell_type": "code",
   "execution_count": 2,
   "metadata": {},
   "outputs": [],
   "source": [
    "import sys\n",
    "sys.path.append('C://Users//HAN//Documents//Deep Learning from Scratch') # 각자의 경로로 수정해주세요.\n",
    "import numpy as np\n",
    "from common.functions import softmax, cross_entropy_error"
   ]
  },
  {
   "cell_type": "code",
   "execution_count": 7,
   "metadata": {},
   "outputs": [
    {
     "name": "stdout",
     "output_type": "stream",
     "text": [
      "True\n",
      "[[ 0.1   0.15 -0.25]\n",
      " [-0.15  0.1   0.05]]\n",
      "[2 0]\n",
      "False\n",
      "[[ 0.1   0.15 -0.25]\n",
      " [-0.15  0.1   0.05]]\n"
     ]
    }
   ],
   "source": [
    "x = np.log([[2,3,5],[7,2,1]])\n",
    "t = np.array([[0,0,1],[1,0,0]])\n",
    "\n",
    "y = softmax(x)\n",
    "loss = cross_entropy_error(y, t)\n",
    "\n",
    "batch_size = t.shape[0]\n",
    "print(t.size == y.size)\n",
    "dx = (y - t) / batch_size\n",
    "print(dx)\n",
    "\n",
    "t = np.argmax(t, axis=1)\n",
    "print(t)\n",
    "\n",
    "print(t.size == y.size)\n",
    "dx = y.copy()\n",
    "dx[np.arange(batch_size), t] -= 1\n",
    "dx = dx / batch_size\n",
    "print(dx)"
   ]
  }
 ],
 "metadata": {
  "kernelspec": {
   "display_name": "Python 3 (ipykernel)",
   "language": "python",
   "name": "python3"
  },
  "language_info": {
   "codemirror_mode": {
    "name": "ipython",
    "version": 3
   },
   "file_extension": ".py",
   "mimetype": "text/x-python",
   "name": "python",
   "nbconvert_exporter": "python",
   "pygments_lexer": "ipython3",
   "version": "3.9.12"
  }
 },
 "nbformat": 4,
 "nbformat_minor": 4
}
